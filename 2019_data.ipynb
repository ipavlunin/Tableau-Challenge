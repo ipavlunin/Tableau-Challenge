{
 "cells": [
  {
   "cell_type": "markdown",
   "metadata": {},
   "source": [
    "## NY City Bike - Tableau Dashboard\n",
    "----\n",
    "\n",
    "### Notes\n",
    "This notebook created to proccess and analyze the data sets\n",
    "for the `NY Citi Bike Program` for 2019.\n",
    "\n",
    "----"
   ]
  },
  {
   "cell_type": "code",
   "execution_count": null,
   "metadata": {},
   "outputs": [],
   "source": [
    "# Import Libraries\n",
    "import pandas as pd\n",
    "import datetime\n",
    "import math\n",
    "import numpy as np"
   ]
  },
  {
   "cell_type": "code",
   "execution_count": null,
   "metadata": {},
   "outputs": [],
   "source": [
    "# Function to calculate the distance between two points using coordinates\n",
    "def distance(origin, destination):\n",
    "    lat1, lon1 = origin\n",
    "    lat2, lon2 = destination\n",
    "    radius = 3956 # for miles\n",
    "\n",
    "    dlat = math.radians(lat2-lat1)\n",
    "    dlon = math.radians(lon2-lon1)\n",
    "    a = math.sin(dlat/2) * math.sin(dlat/2) + math.cos(math.radians(lat1)) \\\n",
    "        * math.cos(math.radians(lat2)) * math.sin(dlon/2) * math.sin(dlon/2)\n",
    "    c = 2 * math.atan2(math.sqrt(a), math.sqrt(1-a))\n",
    "    d = radius * c\n",
    "\n",
    "    return d"
   ]
  },
  {
   "cell_type": "markdown",
   "metadata": {},
   "source": [
    "### NY City Bike Dataset for 2019"
   ]
  },
  {
   "cell_type": "code",
   "execution_count": null,
   "metadata": {},
   "outputs": [],
   "source": [
    "# Read file and print the number of records and data types\n",
    "csv_name = \"./2019/201901.csv\"\n",
    "jan_df = pd.read_csv(csv_name, low_memory=False) \n",
    "print(\"Records Jan-2019 : \" + \"\\n\" + str(jan_df.count()))"
   ]
  },
  {
   "cell_type": "code",
   "execution_count": null,
   "metadata": {},
   "outputs": [],
   "source": [
    "# Add columns\n",
    "jan_df.insert(0, 'year', 2019)\n",
    "jan_df.insert(1, 'month', 'Jan')\n",
    "jan_df.insert(3, 'tripdurmin', 0)\n",
    "jan_df.insert(5, 'starthour', 0)\n",
    "jan_df.insert(6, 'weekday', 0)\n",
    "jan_df.insert(16, 'distance', 0)\n",
    "jan_df.insert(21, 'age', 0)\n",
    "jan_df.insert(22, 'sgender', '')\n",
    "jan_df.insert(23, 'season', 'Winter')\n",
    "jan_df.insert(24, 'mileage', 0)\n",
    "\n",
    "jan_df.head(5)"
   ]
  },
  {
   "cell_type": "code",
   "execution_count": null,
   "metadata": {},
   "outputs": [],
   "source": [
    "# Define values for gender\n",
    "jan_df.loc[jan_df['gender'] == 0, 'sgender'] = 'Unknown'\n",
    "jan_df.loc[jan_df['gender'] == 1, 'sgender'] = 'Male'\n",
    "jan_df.loc[jan_df['gender'] == 2, 'sgender'] = 'Female'"
   ]
  },
  {
   "cell_type": "code",
   "execution_count": null,
   "metadata": {},
   "outputs": [],
   "source": [
    "# Calculate the age of the person (in 2019)\n",
    "jan_df['age'] = 2019 - jan_df['birth year']"
   ]
  },
  {
   "cell_type": "code",
   "execution_count": null,
   "metadata": {},
   "outputs": [],
   "source": [
    "# Durantion of the trip from seconds to minutes\n",
    "jan_df['tripdurmin'] = jan_df['tripduration'] / 60"
   ]
  },
  {
   "cell_type": "code",
   "execution_count": null,
   "metadata": {},
   "outputs": [],
   "source": [
    "# Getting hour fron the 'startime'\n",
    "jan_df['starthour'] = pd.to_datetime(jan_df['starttime']).dt.strftime('%H')"
   ]
  },
  {
   "cell_type": "code",
   "execution_count": null,
   "metadata": {},
   "outputs": [],
   "source": [
    "# Getting weekday fron the 'startime'\n",
    "jan_df['weekday'] = pd.to_datetime(jan_df['starttime']).dt.strftime('%A')"
   ]
  },
  {
   "cell_type": "code",
   "execution_count": null,
   "metadata": {},
   "outputs": [],
   "source": [
    "# Calculate the distance in miles from start station to end station\n",
    "jan_df['distance'] = jan_df.apply(lambda row: distance((row['start station latitude'],row['start station longitude']), \n",
    "                         (row['end station latitude'], row['end station longitude'])),\n",
    "                         axis=1)"
   ]
  },
  {
   "cell_type": "code",
   "execution_count": null,
   "metadata": {},
   "outputs": [],
   "source": [
    "# Transform the values for mileage estimates - assumed speed of 7.456 miles per hour, up to two hours. \n",
    "jan_df.loc[jan_df['tripdurmin'] <= 120, 'mileage'] = (jan_df['tripdurmin'] / 60) * 7.456\n",
    "\n",
    "# Trips over 2 hrs max-out at 14.9 miles\n",
    "jan_df.loc[jan_df['tripdurmin'] > 120, 'mileage'] = (jan_df['tripdurmin'] / 60) * 14.9"
   ]
  },
  {
   "cell_type": "code",
   "execution_count": null,
   "metadata": {},
   "outputs": [],
   "source": [
    "# View results\n",
    "jan_df.head()"
   ]
  },
  {
   "cell_type": "markdown",
   "metadata": {},
   "source": [
    "### Data exploration (Jan-2019)"
   ]
  },
  {
   "cell_type": "code",
   "execution_count": null,
   "metadata": {},
   "outputs": [],
   "source": [
    "# Data frame information\n",
    "jan_df.info()"
   ]
  },
  {
   "cell_type": "code",
   "execution_count": null,
   "metadata": {},
   "outputs": [],
   "source": [
    "# Count of customers and subscribers\n",
    "jan_df.usertype.value_counts()"
   ]
  },
  {
   "cell_type": "code",
   "execution_count": null,
   "metadata": {},
   "outputs": [],
   "source": [
    "# Peak hours for bike rentals\n",
    "jan_df.starthour.value_counts()"
   ]
  },
  {
   "cell_type": "code",
   "execution_count": null,
   "metadata": {},
   "outputs": [],
   "source": [
    "# Number of unique start stations\n",
    "jan_df['start station id'].nunique()"
   ]
  },
  {
   "cell_type": "code",
   "execution_count": null,
   "metadata": {},
   "outputs": [],
   "source": [
    "# Trips from all unique start stations\n",
    "jan_df['start station id'].value_counts()"
   ]
  },
  {
   "cell_type": "code",
   "execution_count": null,
   "metadata": {},
   "outputs": [],
   "source": [
    "# Number of unique end stations\n",
    "jan_df['end station id'].nunique()"
   ]
  },
  {
   "cell_type": "code",
   "execution_count": null,
   "metadata": {},
   "outputs": [],
   "source": [
    "# Arrivals to all unique end stations\n",
    "jan_df['end station id'].value_counts()"
   ]
  },
  {
   "cell_type": "code",
   "execution_count": null,
   "metadata": {},
   "outputs": [],
   "source": [
    "# Gender distribution of active participants.  Gender: Zero=unknown, 1=male, 2=female\n",
    "jan_df.sgender.value_counts()"
   ]
  },
  {
   "cell_type": "code",
   "execution_count": null,
   "metadata": {},
   "outputs": [],
   "source": [
    "# Average trip duration by age - Get the max and the min\n",
    "# Min and Max Age = 2020 - birth year\n",
    "print(f'Max age: {jan_df.age.max()}')\n",
    "print(f'Min age: {jan_df.age.min()}')\n",
    "print(f'Uniques: {jan_df.age.nunique()}')"
   ]
  },
  {
   "cell_type": "code",
   "execution_count": null,
   "metadata": {},
   "outputs": [],
   "source": [
    "# Average trip duration by age - Differents values for age\n",
    "# Age = 2020 - birth year \n",
    "jan_df.age.value_counts()"
   ]
  },
  {
   "cell_type": "code",
   "execution_count": null,
   "metadata": {},
   "outputs": [],
   "source": [
    "# Number of trips by age\n",
    "jan_df.groupby('age')['tripdurmin'].count()"
   ]
  },
  {
   "cell_type": "code",
   "execution_count": null,
   "metadata": {},
   "outputs": [],
   "source": [
    "# Average trip duration by age\n",
    "jan_df.groupby('age')['tripdurmin'].mean()"
   ]
  },
  {
   "cell_type": "code",
   "execution_count": null,
   "metadata": {},
   "outputs": [],
   "source": [
    "# Average distance in miles for each unique bike\n",
    "print(f'Uniques: {jan_df.bikeid.nunique()}')"
   ]
  },
  {
   "cell_type": "code",
   "execution_count": null,
   "metadata": {},
   "outputs": [],
   "source": [
    "# Average distance in miles that a bike is ridden\n",
    "jan_df.groupby(['bikeid']).agg({'distance': 'mean'}).sort_values(['distance'],ascending=False).head(5)"
   ]
  },
  {
   "cell_type": "code",
   "execution_count": null,
   "metadata": {},
   "outputs": [],
   "source": [
    "# Which bikes (by ID) are most likely due for repair or inspection in the timespan?\n",
    "jan_df.groupby(['bikeid']).agg({'distance': 'sum'}).sort_values(['distance'],ascending=False).head(5)"
   ]
  },
  {
   "cell_type": "code",
   "execution_count": null,
   "metadata": {},
   "outputs": [],
   "source": [
    "# Variability by bike ID\n",
    "jan_df.groupby(['bikeid']).agg({'distance': 'std'}).sort_values(['distance'],ascending=False).head(5)"
   ]
  },
  {
   "cell_type": "markdown",
   "metadata": {},
   "source": [
    "### Assembling DataFrames for Tableau dashboard"
   ]
  },
  {
   "cell_type": "markdown",
   "metadata": {},
   "source": [
    "#### --- January ---"
   ]
  },
  {
   "cell_type": "code",
   "execution_count": null,
   "metadata": {},
   "outputs": [],
   "source": [
    "# Usertype + Gender\n",
    "jan_user_df = jan_df.groupby(['usertype', 'sgender']).agg({i:'count' for i in jan_df.columns[19:20]})\n",
    "jan_user_df.reset_index(inplace=True)\n",
    "jan_user_df.rename(columns={\"sgender\":\"gender\", \"birth year\":\"trips\"}, inplace=True)\n",
    "jan_user_df.insert(0, 'year', 2019)\n",
    "jan_user_df.insert(1, 'month', 'Jan')\n",
    "jan_user_df"
   ]
  },
  {
   "cell_type": "code",
   "execution_count": null,
   "metadata": {},
   "outputs": [],
   "source": [
    "# Trips by hour, season and weekday\n",
    "jan_season_df = jan_df.groupby(['starthour', 'season', 'weekday']).agg({i:'count' for i in jan_df.columns[19:20]})\n",
    "jan_season_df.reset_index(inplace=True)\n",
    "jan_season_df.rename(columns={\"birth year\":\"trips\"}, inplace=True)\n",
    "jan_season_df.insert(0, 'year', 2019)\n",
    "jan_season_df.insert(1, 'month', 'Jan')\n",
    "jan_season_df"
   ]
  },
  {
   "cell_type": "code",
   "execution_count": null,
   "metadata": {},
   "outputs": [],
   "source": [
    "# Start Stations\n",
    "jan_stat_df = jan_df.groupby(['start station id', 'start station name', 'start station latitude', 'start station longitude']).agg({i:'count' for i in jan_df.columns[16:17]})\n",
    "jan_stat_df.reset_index(inplace=True)\n",
    "jan_stat_df.rename(columns={\"start station id\" : \"stationid\", \"distance\":\"starttrips\", \"start station name\": \"startstatname\"}, inplace=True)\n",
    "jan_stat_df.insert(0, 'year', 2019)\n",
    "jan_stat_df.insert(1, 'month', 'Jan')\n",
    "jan_stat_df"
   ]
  },
  {
   "cell_type": "code",
   "execution_count": null,
   "metadata": {},
   "outputs": [],
   "source": [
    "# End Stations\n",
    "jan_statend_df = jan_df.groupby(['end station id', 'end station name', 'end station latitude', 'end station longitude']).agg({i:'count' for i in jan_df.columns[16:17]})\n",
    "jan_statend_df.reset_index(inplace=True)\n",
    "jan_statend_df.rename(columns={\"end station id\" : \"stationid\", \"distance\":\"endtrips\", \"end station name\": \"endstatname\"}, inplace=True)\n",
    "jan_statend_df"
   ]
  },
  {
   "cell_type": "code",
   "execution_count": null,
   "metadata": {},
   "outputs": [],
   "source": [
    "# Merge the start trips with the end trips by station id\n",
    "jan_stat_df = jan_stat_df.merge(jan_statend_df, how=\"outer\", left_on='stationid', right_on='stationid', suffixes=('_left', '_right'))\n",
    "jan_stat_df"
   ]
  },
  {
   "cell_type": "code",
   "execution_count": null,
   "metadata": {},
   "outputs": [],
   "source": [
    "# Ages vs Trip duration\n",
    "jan_agedur_df = jan_df.groupby(by=['age','usertype'])['tripdurmin'].agg(['count', 'mean'])\n",
    "jan_agedur_df.reset_index(inplace=True)\n",
    "jan_agedur_df.insert(0, 'year', 2019)\n",
    "jan_agedur_df.insert(1, 'month', 'Jan')\n",
    "jan_agedur_df"
   ]
  },
  {
   "cell_type": "code",
   "execution_count": null,
   "metadata": {},
   "outputs": [],
   "source": [
    "# Distance from start station to end station for each bike ID\n",
    "jan_bike_df = jan_df.groupby(by=['bikeid'])['distance'].agg(['count', sum, 'mean', 'std'])\n",
    "jan_bike_df.reset_index(inplace=True)\n",
    "jan_bike_df.rename(columns={\"count\":\"trips\", \"sum\" : \"totmiles\", \"mean\" : \"avgmiles\", \"std\" : \"stdmiles\"}, inplace=True)\n",
    "jan_bike_df.insert(0, 'year', 2019)\n",
    "jan_bike_df.insert(1, 'month', 'Jan')\n",
    "jan_bike_df"
   ]
  },
  {
   "cell_type": "code",
   "execution_count": null,
   "metadata": {},
   "outputs": [],
   "source": [
    "# Calculate the total mileage for each bike ID\n",
    "jan_bikemil_df = jan_df.groupby(by=['bikeid'])['mileage'].agg(['count', sum, 'mean', 'std'])\n",
    "jan_bikemil_df.reset_index(inplace=True)\n",
    "jan_bikemil_df.rename(columns={\"count\":\"trips\", \"sum\" : \"totmileage\", \"mean\" : \"avgmileage\", \"std\" : \"stdmileage\"}, inplace=True)\n",
    "jan_bikemil_df.insert(0, 'year', 2019)\n",
    "jan_bikemil_df.insert(1, 'month', 'Jan')\n",
    "jan_bikemil_df"
   ]
  },
  {
   "cell_type": "markdown",
   "metadata": {},
   "source": [
    "### Export DataFrames to CSV files (all remaining months data to be added in the next steps)"
   ]
  },
  {
   "cell_type": "code",
   "execution_count": null,
   "metadata": {},
   "outputs": [],
   "source": [
    "jan_user_df.to_csv(\"./2019/user2019.csv\", encoding=\"utf-8\", index=False, header=True) \n",
    "\n",
    "jan_season_df.to_csv(\"./2019/season2019.csv\", encoding=\"utf-8\", index=False, header=True)\n",
    "\n",
    "jan_stat_df.to_csv(\"./2019/station2019.csv\", encoding=\"utf-8\", index=False, header=True)\n",
    "\n",
    "jan_agedur_df.to_csv(\"./2019/agedur2019.csv\", encoding=\"utf-8\", index=False, header=True)\n",
    "\n",
    "jan_bike_df.to_csv(\"./2019/bike2019.csv\", encoding=\"utf-8\", index=False, header=True)\n",
    "\n",
    "jan_bikemil_df.to_csv(\"./2019/mileage2019.csv\", encoding=\"utf-8\", index=False, header=True)"
   ]
  },
  {
   "cell_type": "markdown",
   "metadata": {},
   "source": [
    "### Repeating same data processing for the remaining months of 2019"
   ]
  },
  {
   "cell_type": "markdown",
   "metadata": {},
   "source": [
    "##### --- February ---"
   ]
  },
  {
   "cell_type": "code",
   "execution_count": null,
   "metadata": {},
   "outputs": [],
   "source": [
    "# Read file and print the number of records and data types\n",
    "csv_name = \"./2019/201902.csv\"\n",
    "feb_df = pd.read_csv(csv_name, low_memory=False) "
   ]
  },
  {
   "cell_type": "code",
   "execution_count": null,
   "metadata": {},
   "outputs": [],
   "source": [
    "# Add columns\n",
    "feb_df.insert(0, 'year', 2019)\n",
    "feb_df.insert(1, 'month', 'Feb')\n",
    "feb_df.insert(3, 'tripdurmin', 0)\n",
    "feb_df.insert(5, 'starthour', 0)\n",
    "feb_df.insert(6, 'weekday', 0)\n",
    "feb_df.insert(16, 'distance', 0)\n",
    "feb_df.insert(21, 'age', 0)\n",
    "feb_df.insert(22, 'sgender', '')\n",
    "feb_df.insert(23, 'season', 'Winter')\n",
    "feb_df.insert(24, 'mileage', 0)\n",
    "print(\"Records Feb-2019 : \" + \"\\n\" + str(feb_df.count()))"
   ]
  },
  {
   "cell_type": "code",
   "execution_count": null,
   "metadata": {},
   "outputs": [],
   "source": [
    "# Define values for gender\n",
    "feb_df.loc[feb_df['gender'] == 0, 'sgender'] = 'Unknown'\n",
    "feb_df.loc[feb_df['gender'] == 1, 'sgender'] = 'Male'\n",
    "feb_df.loc[feb_df['gender'] == 2, 'sgender'] = 'Female'\n",
    "\n",
    "# Calculate the age of the person (in 2019)\n",
    "feb_df['age'] = 2019 - feb_df['birth year']\n",
    "\n",
    "# durantion of the trip from seconds to minutes\n",
    "feb_df['tripdurmin'] = feb_df['tripduration'] / 60\n",
    "\n",
    "# Getting hour fron the 'startime'\n",
    "feb_df['starthour'] = pd.to_datetime(feb_df['starttime']).dt.strftime('%H')\n",
    "\n",
    "# Getting weekday fron the 'startime'\n",
    "feb_df['weekday'] = pd.to_datetime(feb_df['starttime']).dt.strftime('%A')"
   ]
  },
  {
   "cell_type": "code",
   "execution_count": null,
   "metadata": {},
   "outputs": [],
   "source": [
    "# Calculate the distance in miles from start station to end station\n",
    "feb_df['distance'] = feb_df.apply(lambda row: distance((row['start station latitude'],row['start station longitude']), \n",
    "                         (row['end station latitude'], row['end station longitude'])),\n",
    "                         axis=1)"
   ]
  },
  {
   "cell_type": "code",
   "execution_count": null,
   "metadata": {},
   "outputs": [],
   "source": [
    "# Transform the values for mileage estimates - assumed speed of 7.456 miles per hour, up to two hours. \n",
    "feb_df.loc[feb_df['tripdurmin'] <= 120, 'mileage'] = (feb_df['tripdurmin'] / 60) * 7.456\n",
    "\n",
    "# Trips over 2 hrs max-out at 14.9 miles\n",
    "feb_df.loc[feb_df['tripdurmin'] > 120, 'mileage'] = (feb_df['tripdurmin'] / 60) * 14.9"
   ]
  },
  {
   "cell_type": "code",
   "execution_count": null,
   "metadata": {},
   "outputs": [],
   "source": [
    "# Usertype + Gender\n",
    "feb_user_df =feb_df.groupby(['usertype', 'sgender']).agg({i:'count' for i in feb_df.columns[19:20]})\n",
    "feb_user_df.reset_index(inplace=True)\n",
    "feb_user_df.rename(columns={\"sgender\":\"gender\", \"birth year\":\"trips\"}, inplace=True)\n",
    "feb_user_df.insert(0, 'year', 2019)\n",
    "feb_user_df.insert(1, 'month', 'Feb')\n",
    "feb_user_df"
   ]
  },
  {
   "cell_type": "code",
   "execution_count": null,
   "metadata": {},
   "outputs": [],
   "source": [
    "# Trips by hour, season and weekday\n",
    "feb_season_df = feb_df.groupby(['starthour', 'season', 'weekday']).agg({i:'count' for i in feb_df.columns[19:20]})\n",
    "feb_season_df.reset_index(inplace=True)\n",
    "feb_season_df.rename(columns={\"birth year\":\"trips\"}, inplace=True)\n",
    "feb_season_df.insert(0, 'year', 2019)\n",
    "feb_season_df.insert(1, 'month', 'Feb')\n",
    "feb_season_df"
   ]
  },
  {
   "cell_type": "code",
   "execution_count": null,
   "metadata": {},
   "outputs": [],
   "source": [
    "# Start Stations\n",
    "feb_stat_df = feb_df.groupby(['start station id', 'start station name', 'start station latitude', 'start station longitude']).agg({i:'count' for i in feb_df.columns[16:17]})\n",
    "feb_stat_df.reset_index(inplace=True)\n",
    "feb_stat_df.rename(columns={\"start station id\" : \"stationid\", \"distance\":\"starttrips\", \"start station name\": \"startstatname\"}, inplace=True)\n",
    "feb_stat_df.insert(0, 'year', 2019)\n",
    "feb_stat_df.insert(1, 'month', 'Feb')\n",
    "feb_stat_df"
   ]
  },
  {
   "cell_type": "code",
   "execution_count": null,
   "metadata": {},
   "outputs": [],
   "source": [
    "# End Stations\n",
    "feb_statend_df = feb_df.groupby(['end station id', 'end station name', 'end station latitude', 'end station longitude']).agg({i:'count' for i in feb_df.columns[16:17]})\n",
    "feb_statend_df.reset_index(inplace=True)\n",
    "feb_statend_df.rename(columns={\"end station id\" : \"stationid\", \"distance\":\"endtrips\", \"end station name\": \"endstatname\"}, inplace=True)\n",
    "feb_statend_df"
   ]
  },
  {
   "cell_type": "code",
   "execution_count": null,
   "metadata": {},
   "outputs": [],
   "source": [
    "# Merge the start trips with the end trips by station id\n",
    "feb_stat_df = feb_stat_df.merge(feb_statend_df, how=\"outer\", left_on='stationid', right_on='stationid', suffixes=('_left', '_right'))\n",
    "feb_stat_df"
   ]
  },
  {
   "cell_type": "code",
   "execution_count": null,
   "metadata": {},
   "outputs": [],
   "source": [
    "# Ages vs Trip duration\n",
    "feb_agedur_df = feb_df.groupby(by=['age','usertype'])['tripdurmin'].agg(['count', 'mean'])\n",
    "feb_agedur_df.reset_index(inplace=True)\n",
    "feb_agedur_df.insert(0, 'year', 2019)\n",
    "feb_agedur_df.insert(1, 'month', 'Feb')\n",
    "feb_agedur_df"
   ]
  },
  {
   "cell_type": "code",
   "execution_count": null,
   "metadata": {},
   "outputs": [],
   "source": [
    "# Distance from start station to end station for each bike ID\n",
    "feb_bike_df = feb_df.groupby(by=['bikeid'])['distance'].agg(['count', sum, 'mean', 'std'])\n",
    "feb_bike_df.reset_index(inplace=True)\n",
    "feb_bike_df.rename(columns={\"count\":\"trips\", \"sum\" : \"totmiles\", \"mean\" : \"avgmiles\", \"std\" : \"stdmiles\"}, inplace=True)\n",
    "feb_bike_df.insert(0, 'year', 2019)\n",
    "feb_bike_df.insert(1, 'month', 'Feb')\n",
    "feb_bike_df"
   ]
  },
  {
   "cell_type": "code",
   "execution_count": null,
   "metadata": {},
   "outputs": [],
   "source": [
    "# Calculate the total mileage for each bike ID\n",
    "feb_bikemil_df = feb_df.groupby(by=['bikeid'])['mileage'].agg(['count', sum, 'mean', 'std'])\n",
    "feb_bikemil_df.reset_index(inplace=True)\n",
    "feb_bikemil_df.rename(columns={\"count\":\"trips\", \"sum\" : \"totmileage\", \"mean\" : \"avgmileage\", \"std\" : \"stdmileage\"}, inplace=True)\n",
    "feb_bikemil_df.insert(0, 'year', 2019)\n",
    "feb_bikemil_df.insert(1, 'month', 'Feb')\n",
    "feb_bikemil_df"
   ]
  },
  {
   "cell_type": "code",
   "execution_count": null,
   "metadata": {},
   "outputs": [],
   "source": [
    "# Append DataFrames to CSVs\n",
    "with open('./2019/user2019.csv', 'a') as f:\n",
    "    feb_user_df.to_csv(f, encoding=\"utf-8\", index=False, header=False)\n",
    "\n",
    "with open('./2019/season2019.csv', 'a') as f:\n",
    "    feb_season_df.to_csv(f, encoding=\"utf-8\", index=False, header=False)\n",
    "\n",
    "with open('./2019/station2019.csv', 'a') as f:\n",
    "    feb_stat_df.to_csv(f, encoding=\"utf-8\", index=False, header=False)\n",
    "\n",
    "with open('./2019/agedur2019.csv', 'a') as f:\n",
    "    feb_agedur_df.to_csv(f, encoding=\"utf-8\", index=False, header=False)\n",
    "\n",
    "with open('./2019/bike2019.csv', 'a') as f:\n",
    "    feb_bike_df.to_csv(f, encoding=\"utf-8\", index=False, header=False)\n",
    "\n",
    "with open('./2019/mileage2019.csv', 'a') as f:\n",
    "    feb_bikemil_df.to_csv(f, encoding=\"utf-8\", index=False, header=False)"
   ]
  },
  {
   "cell_type": "markdown",
   "metadata": {},
   "source": [
    "##### --- March ---"
   ]
  },
  {
   "cell_type": "code",
   "execution_count": null,
   "metadata": {},
   "outputs": [],
   "source": [
    "# Read file and print the number of records and data types\n",
    "csv_name = \"./2019/201903.csv\"\n",
    "mar_df = pd.read_csv(csv_name, low_memory=False) "
   ]
  },
  {
   "cell_type": "code",
   "execution_count": null,
   "metadata": {},
   "outputs": [],
   "source": [
    "# Add columns\n",
    "mar_df.insert(0, 'year', 2019)\n",
    "mar_df.insert(1, 'month', 'Mar')\n",
    "mar_df.insert(3, 'tripdurmin', 0)\n",
    "mar_df.insert(5, 'starthour', 0)\n",
    "mar_df.insert(6, 'weekday', 0)\n",
    "mar_df.insert(16, 'distance', 0)\n",
    "mar_df.insert(21, 'age', 0)\n",
    "mar_df.insert(22, 'sgender', '')\n",
    "mar_df.insert(23, 'season', 'Spring')\n",
    "mar_df.insert(24, 'mileage', 0)\n",
    "print(\"Records Mar-2019 : \" + \"\\n\" + str(mar_df.count()))"
   ]
  },
  {
   "cell_type": "code",
   "execution_count": null,
   "metadata": {},
   "outputs": [],
   "source": [
    "# Define values for gender\n",
    "mar_df.loc[mar_df['gender'] == 0, 'sgender'] = 'Unknown'\n",
    "mar_df.loc[mar_df['gender'] == 1, 'sgender'] = 'Male'\n",
    "mar_df.loc[mar_df['gender'] == 2, 'sgender'] = 'Female'\n",
    "\n",
    "# Calculate the age of the person (in 2019)\n",
    "mar_df['age'] = 2019 - mar_df['birth year']\n",
    "\n",
    "# durantion of the trip from seconds to minutes\n",
    "mar_df['tripdurmin'] = mar_df['tripduration'] / 60\n",
    "\n",
    "# Getting hour fron the 'startime'\n",
    "mar_df['starthour'] = pd.to_datetime(mar_df['starttime']).dt.strftime('%H')\n",
    "\n",
    "# Getting weekday fron the 'startime'\n",
    "mar_df['weekday'] = pd.to_datetime(mar_df['starttime']).dt.strftime('%A')"
   ]
  },
  {
   "cell_type": "code",
   "execution_count": null,
   "metadata": {},
   "outputs": [],
   "source": [
    "# Calculate the distance in miles from start station to end station\n",
    "mar_df['distance'] = mar_df.apply(lambda row: distance((row['start station latitude'],row['start station longitude']), \n",
    "                         (row['end station latitude'], row['end station longitude'])),\n",
    "                         axis=1)"
   ]
  },
  {
   "cell_type": "code",
   "execution_count": null,
   "metadata": {},
   "outputs": [],
   "source": [
    "# Transform the values for mileage estimates - assumed speed of 7.456 miles per hour, up to two hours. \n",
    "mar_df.loc[mar_df['tripdurmin'] <= 120, 'mileage'] = (mar_df['tripdurmin'] / 60) * 7.456\n",
    "\n",
    "# Trips over 2 hrs max-out at 14.9 miles\n",
    "mar_df.loc[mar_df['tripdurmin'] > 120, 'mileage'] = (mar_df['tripdurmin'] / 60) * 14.9"
   ]
  },
  {
   "cell_type": "code",
   "execution_count": null,
   "metadata": {},
   "outputs": [],
   "source": [
    "# Usertype + Gender\n",
    "mar_user_df =mar_df.groupby(['usertype', 'sgender']).agg({i:'count' for i in mar_df.columns[19:20]})\n",
    "mar_user_df.reset_index(inplace=True)\n",
    "mar_user_df.rename(columns={\"sgender\":\"gender\", \"birth year\":\"trips\"}, inplace=True)\n",
    "mar_user_df.insert(0, 'year', 2019)\n",
    "mar_user_df.insert(1, 'month', 'Mar')\n",
    "mar_user_df"
   ]
  },
  {
   "cell_type": "code",
   "execution_count": null,
   "metadata": {},
   "outputs": [],
   "source": [
    "# Trips by hour, season and weekday\n",
    "mar_season_df = mar_df.groupby(['starthour', 'season', 'weekday']).agg({i:'count' for i in mar_df.columns[19:20]})\n",
    "mar_season_df.reset_index(inplace=True)\n",
    "mar_season_df.rename(columns={\"birth year\":\"trips\"}, inplace=True)\n",
    "mar_season_df.insert(0, 'year', 2019)\n",
    "mar_season_df.insert(1, 'month', 'Mar')\n",
    "mar_season_df"
   ]
  },
  {
   "cell_type": "code",
   "execution_count": null,
   "metadata": {},
   "outputs": [],
   "source": [
    "# Start Stations\n",
    "mar_stat_df = mar_df.groupby(['start station id', 'start station name', 'start station latitude', 'start station longitude']).agg({i:'count' for i in mar_df.columns[16:17]})\n",
    "mar_stat_df.reset_index(inplace=True)\n",
    "mar_stat_df.rename(columns={\"start station id\" : \"stationid\", \"distance\":\"starttrips\", \"start station name\": \"startstatname\"}, inplace=True)\n",
    "mar_stat_df.insert(0, 'year', 2019)\n",
    "mar_stat_df.insert(1, 'month', 'Mar')\n",
    "mar_stat_df"
   ]
  },
  {
   "cell_type": "code",
   "execution_count": null,
   "metadata": {},
   "outputs": [],
   "source": [
    "# End Stations\n",
    "mar_statend_df = mar_df.groupby(['end station id', 'end station name', 'end station latitude', 'end station longitude']).agg({i:'count' for i in mar_df.columns[16:17]})\n",
    "mar_statend_df.reset_index(inplace=True)\n",
    "mar_statend_df.rename(columns={\"end station id\" : \"stationid\", \"distance\":\"endtrips\", \"end station name\": \"endstatname\"}, inplace=True)\n",
    "mar_statend_df"
   ]
  },
  {
   "cell_type": "code",
   "execution_count": null,
   "metadata": {},
   "outputs": [],
   "source": [
    "# Merge the start trips with the end trips by station id\n",
    "mar_stat_df = mar_stat_df.merge(mar_statend_df, how=\"outer\", left_on='stationid', right_on='stationid', suffixes=('_left', '_right'))\n",
    "mar_stat_df"
   ]
  },
  {
   "cell_type": "code",
   "execution_count": null,
   "metadata": {},
   "outputs": [],
   "source": [
    "# Ages vs Trip duration\n",
    "mar_agedur_df = mar_df.groupby(by=['age','usertype'])['tripdurmin'].agg(['count', 'mean'])\n",
    "mar_agedur_df.reset_index(inplace=True)\n",
    "mar_agedur_df.insert(0, 'year', 2019)\n",
    "mar_agedur_df.insert(1, 'month', 'Mar')\n",
    "mar_agedur_df"
   ]
  },
  {
   "cell_type": "code",
   "execution_count": null,
   "metadata": {},
   "outputs": [],
   "source": [
    "# Distance from start station to end station for each bike ID\n",
    "mar_bike_df = mar_df.groupby(by=['bikeid'])['distance'].agg(['count', sum, 'mean', 'std'])\n",
    "mar_bike_df.reset_index(inplace=True)\n",
    "mar_bike_df.rename(columns={\"count\":\"trips\", \"sum\" : \"totmiles\", \"mean\" : \"avgmiles\", \"std\" : \"stdmiles\"}, inplace=True)\n",
    "mar_bike_df.insert(0, 'year', 2020)\n",
    "mar_bike_df.insert(1, 'month', 'Mar')\n",
    "mar_bike_df"
   ]
  },
  {
   "cell_type": "code",
   "execution_count": null,
   "metadata": {},
   "outputs": [],
   "source": [
    "# Calculate the total mileage for each bike ID\n",
    "mar_bikemil_df = mar_df.groupby(by=['bikeid'])['mileage'].agg(['count', sum, 'mean', 'std'])\n",
    "mar_bikemil_df.reset_index(inplace=True)\n",
    "mar_bikemil_df.rename(columns={\"count\":\"trips\", \"sum\" : \"totmileage\", \"mean\" : \"avgmileage\", \"std\" : \"stdmileage\"}, inplace=True)\n",
    "mar_bikemil_df.insert(0, 'year', 2019)\n",
    "mar_bikemil_df.insert(1, 'month', 'Mar')\n",
    "mar_bikemil_df"
   ]
  },
  {
   "cell_type": "code",
   "execution_count": null,
   "metadata": {},
   "outputs": [],
   "source": [
    "# Append DataFrames to CSVs\n",
    "with open('./2019/user2019.csv', 'a') as f:\n",
    "    mar_user_df.to_csv(f, encoding=\"utf-8\", index=False, header=False)\n",
    "\n",
    "with open('./2019/season2019.csv', 'a') as f:\n",
    "    mar_season_df.to_csv(f, encoding=\"utf-8\", index=False, header=False)\n",
    "\n",
    "with open('./2019/station2019.csv', 'a') as f:\n",
    "    mar_stat_df.to_csv(f, encoding=\"utf-8\", index=False, header=False)\n",
    "\n",
    "with open('./2019/agedur2019.csv', 'a') as f:\n",
    "    mar_agedur_df.to_csv(f, encoding=\"utf-8\", index=False, header=False)\n",
    "\n",
    "with open('./2019/bike2019.csv', 'a') as f:\n",
    "    mar_bike_df.to_csv(f, encoding=\"utf-8\", index=False, header=False)\n",
    "\n",
    "with open('./2019/mileage2019.csv', 'a') as f:\n",
    "    mar_bikemil_df.to_csv(f, encoding=\"utf-8\", index=False, header=False)"
   ]
  },
  {
   "cell_type": "markdown",
   "metadata": {},
   "source": [
    "##### --- April ---"
   ]
  },
  {
   "cell_type": "code",
   "execution_count": null,
   "metadata": {},
   "outputs": [],
   "source": [
    "# Read file and print the number of records and data types\n",
    "csv_name = \"./2019/201904.csv\"\n",
    "apr_df = pd.read_csv(csv_name, low_memory=False) "
   ]
  },
  {
   "cell_type": "code",
   "execution_count": null,
   "metadata": {},
   "outputs": [],
   "source": [
    "# Add columns\n",
    "apr_df.insert(0, 'year', 2019)\n",
    "apr_df.insert(1, 'month', 'Apr')\n",
    "apr_df.insert(3, 'tripdurmin', 0)\n",
    "apr_df.insert(5, 'starthour', 0)\n",
    "apr_df.insert(6, 'weekday', 0)\n",
    "apr_df.insert(16, 'distance', 0)\n",
    "apr_df.insert(21, 'age', 0)\n",
    "apr_df.insert(22, 'sgender', '')\n",
    "apr_df.insert(23, 'season', 'Spring')\n",
    "apr_df.insert(24, 'mileage', 0)\n",
    "print(\"Records Apr-2019 : \" + \"\\n\" + str(apr_df.count()))"
   ]
  },
  {
   "cell_type": "code",
   "execution_count": null,
   "metadata": {},
   "outputs": [],
   "source": [
    "# Define values for gender\n",
    "apr_df.loc[apr_df['gender'] == 0, 'sgender'] = 'Unknown'\n",
    "apr_df.loc[apr_df['gender'] == 1, 'sgender'] = 'Male'\n",
    "apr_df.loc[apr_df['gender'] == 2, 'sgender'] = 'Female'\n",
    "\n",
    "# Calculate the age of the person (in 2019)\n",
    "apr_df['age'] = 2019 - apr_df['birth year']\n",
    "\n",
    "# durantion of the trip from seconds to minutes\n",
    "apr_df['tripdurmin'] = apr_df['tripduration'] / 60\n",
    "\n",
    "# Getting hour fron the 'startime'\n",
    "apr_df['starthour'] = pd.to_datetime(apr_df['starttime']).dt.strftime('%H')\n",
    "\n",
    "# Getting weekday fron the 'startime'\n",
    "apr_df['weekday'] = pd.to_datetime(apr_df['starttime']).dt.strftime('%A')"
   ]
  },
  {
   "cell_type": "code",
   "execution_count": null,
   "metadata": {},
   "outputs": [],
   "source": [
    "# Calculate the distance in miles from start station to end station\n",
    "apr_df['distance'] = apr_df.apply(lambda row: distance((row['start station latitude'],row['start station longitude']), \n",
    "                         (row['end station latitude'], row['end station longitude'])),\n",
    "                         axis=1)"
   ]
  },
  {
   "cell_type": "code",
   "execution_count": null,
   "metadata": {},
   "outputs": [],
   "source": [
    "# Transform the values for mileage estimates - assumed speed of 7.456 miles per hour, up to two hours. \n",
    "apr_df.loc[apr_df['tripdurmin'] <= 120, 'mileage'] = (apr_df['tripdurmin'] / 60) * 7.456\n",
    "\n",
    "# Trips over 2 hrs max-out at 14.9 miles\n",
    "apr_df.loc[apr_df['tripdurmin'] > 120, 'mileage'] = (apr_df['tripdurmin'] / 60) * 14.9"
   ]
  },
  {
   "cell_type": "code",
   "execution_count": null,
   "metadata": {},
   "outputs": [],
   "source": [
    "# Usertype + Gender\n",
    "apr_user_df =apr_df.groupby(['usertype', 'sgender']).agg({i:'count' for i in apr_df.columns[19:20]})\n",
    "apr_user_df.reset_index(inplace=True)\n",
    "apr_user_df.rename(columns={\"sgender\":\"gender\", \"birth year\":\"trips\"}, inplace=True)\n",
    "apr_user_df.insert(0, 'year', 2019)\n",
    "apr_user_df.insert(1, 'month', 'Apr')\n",
    "apr_user_df"
   ]
  },
  {
   "cell_type": "code",
   "execution_count": null,
   "metadata": {},
   "outputs": [],
   "source": [
    "# Trips by hour, season and weekday\n",
    "apr_season_df = apr_df.groupby(['starthour', 'season', 'weekday']).agg({i:'count' for i in apr_df.columns[19:20]})\n",
    "apr_season_df.reset_index(inplace=True)\n",
    "apr_season_df.rename(columns={\"birth year\":\"trips\"}, inplace=True)\n",
    "apr_season_df.insert(0, 'year', 2019)\n",
    "apr_season_df.insert(1, 'month', 'Apr')\n",
    "apr_season_df"
   ]
  },
  {
   "cell_type": "code",
   "execution_count": null,
   "metadata": {},
   "outputs": [],
   "source": [
    "# Start Stations\n",
    "apr_stat_df = apr_df.groupby(['start station id', 'start station name', 'start station latitude', 'start station longitude']).agg({i:'count' for i in apr_df.columns[16:17]})\n",
    "apr_stat_df.reset_index(inplace=True)\n",
    "apr_stat_df.rename(columns={\"start station id\" : \"stationid\", \"distance\":\"starttrips\", \"start station name\": \"startstatname\"}, inplace=True)\n",
    "apr_stat_df.insert(0, 'year', 2020)\n",
    "apr_stat_df.insert(1, 'month', 'Apr')\n",
    "apr_stat_df"
   ]
  },
  {
   "cell_type": "code",
   "execution_count": null,
   "metadata": {},
   "outputs": [],
   "source": [
    "# End Stations\n",
    "apr_statend_df = apr_df.groupby(['end station id', 'end station name', 'end station latitude', 'end station longitude']).agg({i:'count' for i in apr_df.columns[16:17]})\n",
    "apr_statend_df.reset_index(inplace=True)\n",
    "apr_statend_df.rename(columns={\"end station id\" : \"stationid\", \"distance\":\"endtrips\", \"end station name\": \"endstatname\"}, inplace=True)\n",
    "apr_statend_df"
   ]
  },
  {
   "cell_type": "code",
   "execution_count": null,
   "metadata": {},
   "outputs": [],
   "source": [
    "# Merge the start trips with the end trips by station id\n",
    "apr_stat_df = apr_stat_df.merge(apr_statend_df, how=\"outer\", left_on='stationid', right_on='stationid', suffixes=('_left', '_right'))\n",
    "apr_stat_df"
   ]
  },
  {
   "cell_type": "code",
   "execution_count": null,
   "metadata": {},
   "outputs": [],
   "source": [
    "# Ages vs Trip duration\n",
    "apr_agedur_df = apr_df.groupby(by=['age','usertype'])['tripdurmin'].agg(['count', 'mean'])\n",
    "apr_agedur_df.reset_index(inplace=True)\n",
    "apr_agedur_df.insert(0, 'year', 2019)\n",
    "apr_agedur_df.insert(1, 'month', 'Apr')\n",
    "apr_agedur_df"
   ]
  },
  {
   "cell_type": "code",
   "execution_count": null,
   "metadata": {},
   "outputs": [],
   "source": [
    "# Distance from start station to end station for each bike ID\n",
    "apr_bike_df = apr_df.groupby(by=['bikeid'])['distance'].agg(['count', sum, 'mean', 'std'])\n",
    "apr_bike_df.reset_index(inplace=True)\n",
    "apr_bike_df.rename(columns={\"count\":\"trips\", \"sum\" : \"totmiles\", \"mean\" : \"avgmiles\", \"std\" : \"stdmiles\"}, inplace=True)\n",
    "apr_bike_df.insert(0, 'year', 2019)\n",
    "apr_bike_df.insert(1, 'month', 'Apr')\n",
    "apr_bike_df"
   ]
  },
  {
   "cell_type": "code",
   "execution_count": null,
   "metadata": {},
   "outputs": [],
   "source": [
    "# Calculate the total mileage for each bike ID\n",
    "apr_bikemil_df = apr_df.groupby(by=['bikeid'])['mileage'].agg(['count', sum, 'mean', 'std'])\n",
    "apr_bikemil_df.reset_index(inplace=True)\n",
    "apr_bikemil_df.rename(columns={\"count\":\"trips\", \"sum\" : \"totmileage\", \"mean\" : \"avgmileage\", \"std\" : \"stdmileage\"}, inplace=True)\n",
    "apr_bikemil_df.insert(0, 'year', 2019)\n",
    "apr_bikemil_df.insert(1, 'month', 'Apr')\n",
    "apr_bikemil_df"
   ]
  },
  {
   "cell_type": "code",
   "execution_count": null,
   "metadata": {},
   "outputs": [],
   "source": [
    "# Append DataFrames to CSVs\n",
    "with open('./2019/user2019.csv', 'a') as f:\n",
    "    apr_user_df.to_csv(f, encoding=\"utf-8\", index=False, header=False)\n",
    "\n",
    "with open('./2019/season2019.csv', 'a') as f:\n",
    "    apr_season_df.to_csv(f, encoding=\"utf-8\", index=False, header=False)\n",
    "\n",
    "with open('./2019/station2019.csv', 'a') as f:\n",
    "    apr_stat_df.to_csv(f, encoding=\"utf-8\", index=False, header=False)\n",
    "\n",
    "with open('./2019/agedur2019.csv', 'a') as f:\n",
    "    apr_agedur_df.to_csv(f, encoding=\"utf-8\", index=False, header=False)\n",
    "\n",
    "with open('./2020/bike2020.csv', 'a') as f:\n",
    "    apr_bike_df.to_csv(f, encoding=\"utf-8\", index=False, header=False)\n",
    "\n",
    "with open('./2020/mileage2020.csv', 'a') as f:\n",
    "    apr_bikemil_df.to_csv(f, encoding=\"utf-8\", index=False, header=False)"
   ]
  },
  {
   "cell_type": "markdown",
   "metadata": {},
   "source": [
    "##### --- May ---"
   ]
  },
  {
   "cell_type": "code",
   "execution_count": null,
   "metadata": {},
   "outputs": [],
   "source": [
    "# Read file and print the number of records and data types\n",
    "csv_name = \"./2019/201905.csv\"\n",
    "may_df = pd.read_csv(csv_name, low_memory=False) "
   ]
  },
  {
   "cell_type": "code",
   "execution_count": null,
   "metadata": {},
   "outputs": [],
   "source": [
    "# Add columns\n",
    "may_df.insert(0, 'year', 2019)\n",
    "may_df.insert(1, 'month', 'May')\n",
    "may_df.insert(3, 'tripdurmin', 0)\n",
    "may_df.insert(5, 'starthour', 0)\n",
    "may_df.insert(6, 'weekday', 0)\n",
    "may_df.insert(16, 'distance', 0)\n",
    "may_df.insert(21, 'age', 0)\n",
    "may_df.insert(22, 'sgender', '')\n",
    "may_df.insert(23, 'season', 'Spring')\n",
    "may_df.insert(24, 'mileage', 0)\n",
    "print(\"Records May-2019 : \" + \"\\n\" + str(may_df.count()))"
   ]
  },
  {
   "cell_type": "code",
   "execution_count": null,
   "metadata": {},
   "outputs": [],
   "source": [
    "# Define values for gender\n",
    "may_df.loc[may_df['gender'] == 0, 'sgender'] = 'Unknown'\n",
    "may_df.loc[may_df['gender'] == 1, 'sgender'] = 'Male'\n",
    "may_df.loc[may_df['gender'] == 2, 'sgender'] = 'Female'\n",
    "\n",
    "# Calculate the age of the person (in 2019)\n",
    "may_df['age'] = 2019 - may_df['birth year']\n",
    "\n",
    "# durantion of the trip from seconds to minutes\n",
    "may_df['tripdurmin'] = may_df['tripduration'] / 60\n",
    "\n",
    "# Getting hour fron the 'startime'\n",
    "may_df['starthour'] = pd.to_datetime(may_df['starttime']).dt.strftime('%H')\n",
    "\n",
    "# Getting weekday fron the 'startime'\n",
    "may_df['weekday'] = pd.to_datetime(may_df['starttime']).dt.strftime('%A')"
   ]
  },
  {
   "cell_type": "code",
   "execution_count": null,
   "metadata": {},
   "outputs": [],
   "source": [
    "# Calculate the distance in miles from start station to end station\n",
    "may_df['distance'] = may_df.apply(lambda row: distance((row['start station latitude'],row['start station longitude']), \n",
    "                         (row['end station latitude'], row['end station longitude'])),\n",
    "                         axis=1)"
   ]
  },
  {
   "cell_type": "code",
   "execution_count": null,
   "metadata": {},
   "outputs": [],
   "source": [
    "# Transform the values for mileage estimates - assumed speed of 7.456 miles per hour, up to two hours. \n",
    "may_df.loc[may_df['tripdurmin'] <= 120, 'mileage'] = (may_df['tripdurmin'] / 60) * 7.456\n",
    "\n",
    "# Trips over 2 hrs max-out at 14.9 miles\n",
    "may_df.loc[may_df['tripdurmin'] > 120, 'mileage'] = (may_df['tripdurmin'] / 60) * 14.9"
   ]
  },
  {
   "cell_type": "code",
   "execution_count": null,
   "metadata": {},
   "outputs": [],
   "source": [
    "# Usertype + Gender\n",
    "may_user_df =may_df.groupby(['usertype', 'sgender']).agg({i:'count' for i in may_df.columns[19:20]})\n",
    "may_user_df.reset_index(inplace=True)\n",
    "may_user_df.rename(columns={\"sgender\":\"gender\", \"birth year\":\"trips\"}, inplace=True)\n",
    "may_user_df.insert(0, 'year', 2019)\n",
    "may_user_df.insert(1, 'month', 'May')\n",
    "may_user_df"
   ]
  },
  {
   "cell_type": "code",
   "execution_count": null,
   "metadata": {},
   "outputs": [],
   "source": [
    "# Trips by hour, season and weekday\n",
    "may_season_df = may_df.groupby(['starthour', 'season', 'weekday']).agg({i:'count' for i in may_df.columns[19:20]})\n",
    "may_season_df.reset_index(inplace=True)\n",
    "may_season_df.rename(columns={\"birth year\":\"trips\"}, inplace=True)\n",
    "may_season_df.insert(0, 'year', 2019)\n",
    "may_season_df.insert(1, 'month', 'May')\n",
    "may_season_df"
   ]
  },
  {
   "cell_type": "code",
   "execution_count": null,
   "metadata": {},
   "outputs": [],
   "source": [
    "# Start Stations\n",
    "may_stat_df = may_df.groupby(['start station id', 'start station name', 'start station latitude', 'start station longitude']).agg({i:'count' for i in may_df.columns[16:17]})\n",
    "may_stat_df.reset_index(inplace=True)\n",
    "may_stat_df.rename(columns={\"start station id\" : \"stationid\", \"distance\":\"starttrips\", \"start station name\": \"startstatname\"}, inplace=True)\n",
    "may_stat_df.insert(0, 'year', 2019)\n",
    "may_stat_df.insert(1, 'month', 'May')\n",
    "may_stat_df"
   ]
  },
  {
   "cell_type": "code",
   "execution_count": null,
   "metadata": {},
   "outputs": [],
   "source": [
    "# End Stations\n",
    "may_statend_df = may_df.groupby(['end station id', 'end station name', 'end station latitude', 'end station longitude']).agg({i:'count' for i in may_df.columns[16:17]})\n",
    "may_statend_df.reset_index(inplace=True)\n",
    "may_statend_df.rename(columns={\"end station id\" : \"stationid\", \"distance\":\"endtrips\", \"end station name\": \"endstatname\"}, inplace=True)\n",
    "may_statend_df"
   ]
  },
  {
   "cell_type": "code",
   "execution_count": null,
   "metadata": {},
   "outputs": [],
   "source": [
    "# Merge the start trips with the end trips by station id\n",
    "may_stat_df = may_stat_df.merge(may_statend_df, how=\"outer\", left_on='stationid', right_on='stationid', suffixes=('_left', '_right'))\n",
    "may_stat_df"
   ]
  },
  {
   "cell_type": "code",
   "execution_count": null,
   "metadata": {},
   "outputs": [],
   "source": [
    "# Ages vs Trip duration\n",
    "may_agedur_df = may_df.groupby(by=['age','usertype'])['tripdurmin'].agg(['count', 'mean'])\n",
    "may_agedur_df.reset_index(inplace=True)\n",
    "may_agedur_df.insert(0, 'year', 2019)\n",
    "may_agedur_df.insert(1, 'month', 'May')\n",
    "may_agedur_df"
   ]
  },
  {
   "cell_type": "code",
   "execution_count": null,
   "metadata": {},
   "outputs": [],
   "source": [
    "# Distance from start station to end station for each bike ID\n",
    "may_bike_df = may_df.groupby(by=['bikeid'])['distance'].agg(['count', sum, 'mean', 'std'])\n",
    "may_bike_df.reset_index(inplace=True)\n",
    "may_bike_df.rename(columns={\"count\":\"trips\", \"sum\" : \"totmiles\", \"mean\" : \"avgmiles\", \"std\" : \"stdmiles\"}, inplace=True)\n",
    "may_bike_df.insert(0, 'year', 2019)\n",
    "may_bike_df.insert(1, 'month', 'May')\n",
    "may_bike_df"
   ]
  },
  {
   "cell_type": "code",
   "execution_count": null,
   "metadata": {},
   "outputs": [],
   "source": [
    "# Calculate the total mileage for each bike ID\n",
    "may_bikemil_df = may_df.groupby(by=['bikeid'])['mileage'].agg(['count', sum, 'mean', 'std'])\n",
    "may_bikemil_df.reset_index(inplace=True)\n",
    "may_bikemil_df.rename(columns={\"count\":\"trips\", \"sum\" : \"totmileage\", \"mean\" : \"avgmileage\", \"std\" : \"stdmileage\"}, inplace=True)\n",
    "may_bikemil_df.insert(0, 'year', 2019)\n",
    "may_bikemil_df.insert(1, 'month', 'May')\n",
    "may_bikemil_df"
   ]
  },
  {
   "cell_type": "code",
   "execution_count": null,
   "metadata": {},
   "outputs": [],
   "source": [
    "# Append DataFrames to CSVs\n",
    "with open('./2019/user2019.csv', 'a') as f:\n",
    "    may_user_df.to_csv(f, encoding=\"utf-8\", index=False, header=False)\n",
    "\n",
    "with open('./2019/season2019.csv', 'a') as f:\n",
    "    may_season_df.to_csv(f, encoding=\"utf-8\", index=False, header=False)\n",
    "\n",
    "with open('./2019/station2019.csv', 'a') as f:\n",
    "    may_stat_df.to_csv(f, encoding=\"utf-8\", index=False, header=False)\n",
    "\n",
    "with open('./2019/agedur2019.csv', 'a') as f:\n",
    "    may_agedur_df.to_csv(f, encoding=\"utf-8\", index=False, header=False)\n",
    "\n",
    "with open('./2019/bike2019.csv', 'a') as f:\n",
    "    may_bike_df.to_csv(f, encoding=\"utf-8\", index=False, header=False)\n",
    "\n",
    "with open('./2019/mileage2019.csv', 'a') as f:\n",
    "    may_bikemil_df.to_csv(f, encoding=\"utf-8\", index=False, header=False)"
   ]
  },
  {
   "cell_type": "markdown",
   "metadata": {},
   "source": [
    "##### --- Jun ---"
   ]
  },
  {
   "cell_type": "code",
   "execution_count": null,
   "metadata": {},
   "outputs": [],
   "source": [
    "# Read file and print the number of records and data types\n",
    "csv_name = \"./2019/201906.csv\"\n",
    "jun_df = pd.read_csv(csv_name, low_memory=False) "
   ]
  },
  {
   "cell_type": "code",
   "execution_count": null,
   "metadata": {},
   "outputs": [],
   "source": [
    "# Add columns\n",
    "jun_df.insert(0, 'year', 2019)\n",
    "jun_df.insert(1, 'month', 'Jun')\n",
    "jun_df.insert(3, 'tripdurmin', 0)\n",
    "jun_df.insert(5, 'starthour', 0)\n",
    "jun_df.insert(6, 'weekday', 0)\n",
    "jun_df.insert(16, 'distance', 0)\n",
    "jun_df.insert(21, 'age', 0)\n",
    "jun_df.insert(22, 'sgender', '')\n",
    "jun_df.insert(23, 'season', 'Summer')\n",
    "jun_df.insert(24, 'mileage', 0)\n",
    "print(\"Records Jun-2019 : \" + \"\\n\" + str(jun_df.count()))"
   ]
  },
  {
   "cell_type": "code",
   "execution_count": null,
   "metadata": {},
   "outputs": [],
   "source": [
    "# Define values for gender\n",
    "jun_df.loc[jun_df['gender'] == 0, 'sgender'] = 'Unknown'\n",
    "jun_df.loc[jun_df['gender'] == 1, 'sgender'] = 'Male'\n",
    "jun_df.loc[jun_df['gender'] == 2, 'sgender'] = 'Female'\n",
    "\n",
    "# Calculate the age of the person (in 2019)\n",
    "jun_df['age'] = 2019 - jun_df['birth year']\n",
    "\n",
    "# durantion of the trip from seconds to minutes\n",
    "jun_df['tripdurmin'] = jun_df['tripduration'] / 60\n",
    "\n",
    "# Getting hour fron the 'startime'\n",
    "jun_df['starthour'] = pd.to_datetime(jun_df['starttime']).dt.strftime('%H')\n",
    "\n",
    "# Getting weekday fron the 'startime'\n",
    "jun_df['weekday'] = pd.to_datetime(jun_df['starttime']).dt.strftime('%A')"
   ]
  },
  {
   "cell_type": "code",
   "execution_count": null,
   "metadata": {},
   "outputs": [],
   "source": [
    "# Calculate the distance in miles from start station to end station\n",
    "jun_df['distance'] = jun_df.apply(lambda row: distance((row['start station latitude'],row['start station longitude']), \n",
    "                         (row['end station latitude'], row['end station longitude'])),\n",
    "                         axis=1)"
   ]
  },
  {
   "cell_type": "code",
   "execution_count": null,
   "metadata": {},
   "outputs": [],
   "source": [
    "# Transform the values for mileage estimates - assumed speed of 7.456 miles per hour, up to two hours. \n",
    "jun_df.loc[jun_df['tripdurmin'] <= 120, 'mileage'] = (jun_df['tripdurmin'] / 60) * 7.456\n",
    "\n",
    "# Trips over 2 hrs max-out at 14.9 miles\n",
    "jun_df.loc[jun_df['tripdurmin'] > 120, 'mileage'] = (jun_df['tripdurmin'] / 60) * 14.9"
   ]
  },
  {
   "cell_type": "code",
   "execution_count": null,
   "metadata": {},
   "outputs": [],
   "source": [
    "# Usertype + Gender\n",
    "jun_user_df = jun_df.groupby(['usertype', 'sgender']).agg({i:'count' for i in jun_df.columns[19:20]})\n",
    "jun_user_df.reset_index(inplace=True)\n",
    "jun_user_df.rename(columns={\"sgender\":\"gender\", \"birth year\":\"trips\"}, inplace=True)\n",
    "jun_user_df.insert(0, 'year', 2019)\n",
    "jun_user_df.insert(1, 'month', 'Jun')\n",
    "jun_user_df"
   ]
  },
  {
   "cell_type": "code",
   "execution_count": null,
   "metadata": {},
   "outputs": [],
   "source": [
    "# Trips by hour, season and weekday\n",
    "jun_season_df = jun_df.groupby(['starthour', 'season', 'weekday']).agg({i:'count' for i in jun_df.columns[19:20]})\n",
    "jun_season_df.reset_index(inplace=True)\n",
    "jun_season_df.rename(columns={\"birth year\":\"trips\"}, inplace=True)\n",
    "jun_season_df.insert(0, 'year', 2019)\n",
    "jun_season_df.insert(1, 'month', 'Jun')\n",
    "jun_season_df"
   ]
  },
  {
   "cell_type": "code",
   "execution_count": null,
   "metadata": {},
   "outputs": [],
   "source": [
    "# Start Stations\n",
    "jun_stat_df = jun_df.groupby(['start station id', 'start station name', 'start station latitude', 'start station longitude']).agg({i:'count' for i in jun_df.columns[16:17]})\n",
    "jun_stat_df.reset_index(inplace=True)\n",
    "jun_stat_df.rename(columns={\"start station id\" : \"stationid\", \"distance\":\"starttrips\", \"start station name\": \"startstatname\"}, inplace=True)\n",
    "jun_stat_df.insert(0, 'year', 2019)\n",
    "jun_stat_df.insert(1, 'month', 'Jun')\n",
    "jun_stat_df"
   ]
  },
  {
   "cell_type": "code",
   "execution_count": null,
   "metadata": {},
   "outputs": [],
   "source": [
    "# End Stations\n",
    "jun_statend_df = may_df.groupby(['end station id', 'end station name', 'end station latitude', 'end station longitude']).agg({i:'count' for i in may_df.columns[16:17]})\n",
    "jun_statend_df.reset_index(inplace=True)\n",
    "jun_statend_df.rename(columns={\"end station id\" : \"stationid\", \"distance\":\"endtrips\", \"end station name\": \"endstatname\"}, inplace=True)\n",
    "jun_statend_df"
   ]
  },
  {
   "cell_type": "code",
   "execution_count": null,
   "metadata": {},
   "outputs": [],
   "source": [
    "# Merge the start trips with the end trips by station id\n",
    "jun_stat_df = jun_stat_df.merge(jun_statend_df, how=\"outer\", left_on='stationid', right_on='stationid', suffixes=('_left', '_right'))\n",
    "jun_stat_df"
   ]
  },
  {
   "cell_type": "code",
   "execution_count": null,
   "metadata": {},
   "outputs": [],
   "source": [
    "# Ages vs Trip duration\n",
    "jun_agedur_df = jun_df.groupby(by=['age','usertype'])['tripdurmin'].agg(['count', 'mean'])\n",
    "jun_agedur_df.reset_index(inplace=True)\n",
    "jun_agedur_df.insert(0, 'year', 2019)\n",
    "jun_agedur_df.insert(1, 'month', 'Jun')\n",
    "jun_agedur_df"
   ]
  },
  {
   "cell_type": "code",
   "execution_count": null,
   "metadata": {},
   "outputs": [],
   "source": [
    "# Distance from start station to end station for each bike ID\n",
    "jun_bike_df = jun_df.groupby(by=['bikeid'])['distance'].agg(['count', sum, 'mean', 'std'])\n",
    "jun_bike_df.reset_index(inplace=True)\n",
    "jun_bike_df.rename(columns={\"count\":\"trips\", \"sum\" : \"totmiles\", \"mean\" : \"avgmiles\", \"std\" : \"stdmiles\"}, inplace=True)\n",
    "jun_bike_df.insert(0, 'year', 2019)\n",
    "jun_bike_df.insert(1, 'month', 'Jun')\n",
    "jun_bike_df"
   ]
  },
  {
   "cell_type": "code",
   "execution_count": null,
   "metadata": {},
   "outputs": [],
   "source": [
    "# Calculate the total mileage for each bike ID\n",
    "jun_bikemil_df = jun_df.groupby(by=['bikeid'])['mileage'].agg(['count', sum, 'mean', 'std'])\n",
    "jun_bikemil_df.reset_index(inplace=True)\n",
    "jun_bikemil_df.rename(columns={\"count\":\"trips\", \"sum\" : \"totmileage\", \"mean\" : \"avgmileage\", \"std\" : \"stdmileage\"}, inplace=True)\n",
    "jun_bikemil_df.insert(0, 'year', 2019)\n",
    "jun_bikemil_df.insert(1, 'month', 'Jun')\n",
    "jun_bikemil_df"
   ]
  },
  {
   "cell_type": "code",
   "execution_count": null,
   "metadata": {},
   "outputs": [],
   "source": [
    "# Append DataFrames to CSVs\n",
    "with open('./2019/user2019.csv', 'a') as f:\n",
    "    jun_user_df.to_csv(f, encoding=\"utf-8\", index=False, header=False)\n",
    "\n",
    "with open('./2019/season2019.csv', 'a') as f:\n",
    "    jun_season_df.to_csv(f, encoding=\"utf-8\", index=False, header=False)\n",
    "\n",
    "with open('./2019/station2019.csv', 'a') as f:\n",
    "    jun_stat_df.to_csv(f, encoding=\"utf-8\", index=False, header=False)\n",
    "\n",
    "with open('./2019/agedur2019.csv', 'a') as f:\n",
    "    jun_agedur_df.to_csv(f, encoding=\"utf-8\", index=False, header=False)\n",
    "\n",
    "with open('./2019/bike2019.csv', 'a') as f:\n",
    "    jun_bike_df.to_csv(f, encoding=\"utf-8\", index=False, header=False)\n",
    "\n",
    "with open('./2019/mileage2019.csv', 'a') as f:\n",
    "    jun_bikemil_df.to_csv(f, encoding=\"utf-8\", index=False, header=False)"
   ]
  },
  {
   "cell_type": "markdown",
   "metadata": {},
   "source": [
    "##### --- July ---"
   ]
  },
  {
   "cell_type": "code",
   "execution_count": null,
   "metadata": {},
   "outputs": [],
   "source": [
    "# Read file and print the number of records and data types\n",
    "csv_name = \"./2019/201907.csv\"\n",
    "jul_df = pd.read_csv(csv_name, low_memory=False) "
   ]
  },
  {
   "cell_type": "code",
   "execution_count": null,
   "metadata": {},
   "outputs": [],
   "source": [
    "# Add columns\n",
    "jul_df.insert(0, 'year', 2019)\n",
    "jul_df.insert(1, 'month', 'Jul')\n",
    "jul_df.insert(3, 'tripdurmin', 0)\n",
    "jul_df.insert(5, 'starthour', 0)\n",
    "jul_df.insert(6, 'weekday', 0)\n",
    "jul_df.insert(16, 'distance', 0)\n",
    "jul_df.insert(21, 'age', 0)\n",
    "jul_df.insert(22, 'sgender', '')\n",
    "jul_df.insert(23, 'season', 'Summer')\n",
    "jul_df.insert(24, 'mileage', 0)\n",
    "print(\"Records Jul-2019 : \" + \"\\n\" + str(jul_df.count()))"
   ]
  },
  {
   "cell_type": "code",
   "execution_count": null,
   "metadata": {},
   "outputs": [],
   "source": [
    "# Define values for gender\n",
    "jul_df.loc[jul_df['gender'] == 0, 'sgender'] = 'Unknown'\n",
    "jul_df.loc[jul_df['gender'] == 1, 'sgender'] = 'Male'\n",
    "jul_df.loc[jul_df['gender'] == 2, 'sgender'] = 'Female'\n",
    "\n",
    "# Calculate the age of the person (in 2019)\n",
    "jul_df['age'] = 2019 - jul_df['birth year']\n",
    "\n",
    "# durantion of the trip from seconds to minutes\n",
    "jul_df['tripdurmin'] = jul_df['tripduration'] / 60\n",
    "\n",
    "# Getting hour fron the 'startime'\n",
    "jul_df['starthour'] = pd.to_datetime(jul_df['starttime']).dt.strftime('%H')\n",
    "\n",
    "# Getting weekday fron the 'startime'\n",
    "jul_df['weekday'] = pd.to_datetime(jul_df['starttime']).dt.strftime('%A')"
   ]
  },
  {
   "cell_type": "code",
   "execution_count": null,
   "metadata": {},
   "outputs": [],
   "source": [
    "# Calculate the distance in miles from start station to end station\n",
    "jul_df['distance'] = jul_df.apply(lambda row: distance((row['start station latitude'],row['start station longitude']), \n",
    "                         (row['end station latitude'], row['end station longitude'])),\n",
    "                         axis=1)"
   ]
  },
  {
   "cell_type": "code",
   "execution_count": null,
   "metadata": {},
   "outputs": [],
   "source": [
    "# Transform the values for mileage estimates - assumed speed of 7.456 miles per hour, up to two hours. \n",
    "jul_df.loc[jul_df['tripdurmin'] <= 120, 'mileage'] = (jul_df['tripdurmin'] / 60) * 7.456\n",
    "\n",
    "# Trips over 2 hrs max-out at 14.9 miles\n",
    "jul_df.loc[jul_df['tripdurmin'] > 120, 'mileage'] = (jul_df['tripdurmin'] / 60) * 14.9"
   ]
  },
  {
   "cell_type": "code",
   "execution_count": null,
   "metadata": {},
   "outputs": [],
   "source": [
    "# Usertype + Gender\n",
    "jul_user_df = jul_df.groupby(['usertype', 'sgender']).agg({i:'count' for i in jul_df.columns[19:20]})\n",
    "jul_user_df.reset_index(inplace=True)\n",
    "jul_user_df.rename(columns={\"sgender\":\"gender\", \"birth year\":\"trips\"}, inplace=True)\n",
    "jul_user_df.insert(0, 'year', 2019)\n",
    "jul_user_df.insert(1, 'month', 'Jul')\n",
    "jul_user_df"
   ]
  },
  {
   "cell_type": "code",
   "execution_count": null,
   "metadata": {},
   "outputs": [],
   "source": [
    "# Trips by hour, season and weekday\n",
    "jul_season_df = jul_df.groupby(['starthour', 'season', 'weekday']).agg({i:'count' for i in jul_df.columns[19:20]})\n",
    "jul_season_df.reset_index(inplace=True)\n",
    "jul_season_df.rename(columns={\"birth year\":\"trips\"}, inplace=True)\n",
    "jul_season_df.insert(0, 'year', 2019)\n",
    "jul_season_df.insert(1, 'month', 'Jul')\n",
    "jul_season_df"
   ]
  },
  {
   "cell_type": "code",
   "execution_count": null,
   "metadata": {},
   "outputs": [],
   "source": [
    "# Start Stations\n",
    "jul_stat_df = jul_df.groupby(['start station id', 'start station name', 'start station latitude', 'start station longitude']).agg({i:'count' for i in jul_df.columns[16:17]})\n",
    "jul_stat_df.reset_index(inplace=True)\n",
    "jul_stat_df.rename(columns={\"start station id\" : \"stationid\", \"distance\":\"starttrips\", \"start station name\": \"startstatname\"}, inplace=True)\n",
    "jul_stat_df.insert(0, 'year', 2019)\n",
    "jul_stat_df.insert(1, 'month', 'Jul')\n",
    "jul_stat_df"
   ]
  },
  {
   "cell_type": "code",
   "execution_count": null,
   "metadata": {},
   "outputs": [],
   "source": [
    "# End Stations\n",
    "jul_statend_df = may_df.groupby(['end station id', 'end station name', 'end station latitude', 'end station longitude']).agg({i:'count' for i in may_df.columns[16:17]})\n",
    "jul_statend_df.reset_index(inplace=True)\n",
    "jul_statend_df.rename(columns={\"end station id\" : \"stationid\", \"distance\":\"endtrips\", \"end station name\": \"endstatname\"}, inplace=True)\n",
    "jul_statend_df"
   ]
  },
  {
   "cell_type": "code",
   "execution_count": null,
   "metadata": {},
   "outputs": [],
   "source": [
    "# Merge the start trips with the end trips by station id\n",
    "jul_stat_df = jul_stat_df.merge(jul_statend_df, how=\"outer\", left_on='stationid', right_on='stationid', suffixes=('_left', '_right'))\n",
    "jul_stat_df"
   ]
  },
  {
   "cell_type": "code",
   "execution_count": null,
   "metadata": {},
   "outputs": [],
   "source": [
    "# Ages vs Trip duration\n",
    "jul_agedur_df = jul_df.groupby(by=['age','usertype'])['tripdurmin'].agg(['count', 'mean'])\n",
    "jul_agedur_df.reset_index(inplace=True)\n",
    "jul_agedur_df.insert(0, 'year', 2019)\n",
    "jul_agedur_df.insert(1, 'month', 'Jul')\n",
    "jul_agedur_df"
   ]
  },
  {
   "cell_type": "code",
   "execution_count": null,
   "metadata": {},
   "outputs": [],
   "source": [
    "# Distance from start station to end station for each bike ID\n",
    "jul_bike_df = jul_df.groupby(by=['bikeid'])['distance'].agg(['count', sum, 'mean', 'std'])\n",
    "jul_bike_df.reset_index(inplace=True)\n",
    "jul_bike_df.rename(columns={\"count\":\"trips\", \"sum\" : \"totmiles\", \"mean\" : \"avgmiles\", \"std\" : \"stdmiles\"}, inplace=True)\n",
    "jul_bike_df.insert(0, 'year', 2019)\n",
    "jul_bike_df.insert(1, 'month', 'Jul')\n",
    "jul_bike_df"
   ]
  },
  {
   "cell_type": "code",
   "execution_count": null,
   "metadata": {},
   "outputs": [],
   "source": [
    "# Calculate the total mileage for each bike ID\n",
    "jul_bikemil_df = jul_df.groupby(by=['bikeid'])['mileage'].agg(['count', sum, 'mean', 'std'])\n",
    "jul_bikemil_df.reset_index(inplace=True)\n",
    "jul_bikemil_df.rename(columns={\"count\":\"trips\", \"sum\" : \"totmileage\", \"mean\" : \"avgmileage\", \"std\" : \"stdmileage\"}, inplace=True)\n",
    "jul_bikemil_df.insert(0, 'year', 2019)\n",
    "jul_bikemil_df.insert(1, 'month', 'Jul')\n",
    "jul_bikemil_df"
   ]
  },
  {
   "cell_type": "code",
   "execution_count": null,
   "metadata": {},
   "outputs": [],
   "source": [
    "# Append DataFrames to CSVs\n",
    "with open('./2019/user2019.csv', 'a') as f:\n",
    "    jul_user_df.to_csv(f, encoding=\"utf-8\", index=False, header=False)\n",
    "\n",
    "with open('./2019/season2019.csv', 'a') as f:\n",
    "    jul_season_df.to_csv(f, encoding=\"utf-8\", index=False, header=False)\n",
    "\n",
    "with open('./2019/station2019.csv', 'a') as f:\n",
    "    jul_stat_df.to_csv(f, encoding=\"utf-8\", index=False, header=False)\n",
    "\n",
    "with open('./2019/agedur2019.csv', 'a') as f:\n",
    "    jul_agedur_df.to_csv(f, encoding=\"utf-8\", index=False, header=False)\n",
    "\n",
    "with open('./2019/bike2019.csv', 'a') as f:\n",
    "    jul_bike_df.to_csv(f, encoding=\"utf-8\", index=False, header=False)\n",
    "\n",
    "with open('./2019/mileage2019.csv', 'a') as f:\n",
    "    jul_bikemil_df.to_csv(f, encoding=\"utf-8\", index=False, header=False)"
   ]
  },
  {
   "cell_type": "markdown",
   "metadata": {},
   "source": [
    "##### --- August ---"
   ]
  },
  {
   "cell_type": "code",
   "execution_count": null,
   "metadata": {},
   "outputs": [],
   "source": [
    "# Read file and print the number of records and data types\n",
    "csv_name = \"./2019/201908.csv\"\n",
    "aug_df = pd.read_csv(csv_name, low_memory=False) "
   ]
  },
  {
   "cell_type": "code",
   "execution_count": null,
   "metadata": {},
   "outputs": [],
   "source": [
    "# Add columns\n",
    "aug_df.insert(0, 'year', 2019)\n",
    "aug_df.insert(1, 'month', 'Aug')\n",
    "aug_df.insert(3, 'tripdurmin', 0)\n",
    "aug_df.insert(5, 'starthour', 0)\n",
    "aug_df.insert(6, 'weekday', 0)\n",
    "aug_df.insert(16, 'distance', 0)\n",
    "aug_df.insert(21, 'age', 0)\n",
    "aug_df.insert(22, 'sgender', '')\n",
    "aug_df.insert(23, 'season', 'Summer')\n",
    "aug_df.insert(24, 'mileage', 0)\n",
    "print(\"Records Aug-2019 : \" + \"\\n\" + str(aug_df.count()))"
   ]
  },
  {
   "cell_type": "code",
   "execution_count": null,
   "metadata": {},
   "outputs": [],
   "source": [
    "# Define values for gender\n",
    "aug_df.loc[aug_df['gender'] == 0, 'sgender'] = 'Unknown'\n",
    "aug_df.loc[aug_df['gender'] == 1, 'sgender'] = 'Male'\n",
    "aug_df.loc[aug_df['gender'] == 2, 'sgender'] = 'Female'\n",
    "\n",
    "# Calculate the age of the person (in 2019)\n",
    "aug_df['age'] = 2019 - aug_df['birth year']\n",
    "\n",
    "# durantion of the trip from seconds to minutes\n",
    "aug_df['tripdurmin'] = aug_df['tripduration'] / 60\n",
    "\n",
    "# Getting hour fron the 'startime'\n",
    "aug_df['starthour'] = pd.to_datetime(aug_df['starttime']).dt.strftime('%H')\n",
    "\n",
    "# Getting weekday fron the 'startime'\n",
    "aug_df['weekday'] = pd.to_datetime(aug_df['starttime']).dt.strftime('%A')"
   ]
  },
  {
   "cell_type": "code",
   "execution_count": null,
   "metadata": {},
   "outputs": [],
   "source": [
    "# Calculate the distance in miles from start station to end station\n",
    "aug_df['distance'] = aug_df.apply(lambda row: distance((row['start station latitude'],row['start station longitude']), \n",
    "                         (row['end station latitude'], row['end station longitude'])),\n",
    "                         axis=1)"
   ]
  },
  {
   "cell_type": "code",
   "execution_count": null,
   "metadata": {},
   "outputs": [],
   "source": [
    "# Transform the values for mileage estimates - assumed speed of 7.456 miles per hour, up to two hours. \n",
    "aug_df.loc[aug_df['tripdurmin'] <= 120, 'mileage'] = (aug_df['tripdurmin'] / 60) * 7.456\n",
    "\n",
    "# Trips over 2 hrs max-out at 14.9 miles\n",
    "aug_df.loc[aug_df['tripdurmin'] > 120, 'mileage'] = (aug_df['tripdurmin'] / 60) * 14.9"
   ]
  },
  {
   "cell_type": "code",
   "execution_count": null,
   "metadata": {},
   "outputs": [],
   "source": [
    "# Usertype + Gender\n",
    "aug_user_df = aug_df.groupby(['usertype', 'sgender']).agg({i:'count' for i in aug_df.columns[19:20]})\n",
    "aug_user_df.reset_index(inplace=True)\n",
    "aug_user_df.rename(columns={\"sgender\":\"gender\", \"birth year\":\"trips\"}, inplace=True)\n",
    "aug_user_df.insert(0, 'year', 2019)\n",
    "aug_user_df.insert(1, 'month', 'Aug')\n",
    "aug_user_df"
   ]
  },
  {
   "cell_type": "code",
   "execution_count": null,
   "metadata": {},
   "outputs": [],
   "source": [
    "# Trips by hour, season and weekday\n",
    "aug_season_df = aug_df.groupby(['starthour', 'season', 'weekday']).agg({i:'count' for i in aug_df.columns[19:20]})\n",
    "aug_season_df.reset_index(inplace=True)\n",
    "aug_season_df.rename(columns={\"birth year\":\"trips\"}, inplace=True)\n",
    "aug_season_df.insert(0, 'year', 2019)\n",
    "aug_season_df.insert(1, 'month', 'Aug')\n",
    "aug_season_df"
   ]
  },
  {
   "cell_type": "code",
   "execution_count": null,
   "metadata": {},
   "outputs": [],
   "source": [
    "# Start Stations\n",
    "aug_stat_df = aug_df.groupby(['start station id', 'start station name', 'start station latitude', 'start station longitude']).agg({i:'count' for i in aug_df.columns[16:17]})\n",
    "aug_stat_df.reset_index(inplace=True)\n",
    "aug_stat_df.rename(columns={\"start station id\" : \"stationid\", \"distance\":\"starttrips\", \"start station name\": \"startstatname\"}, inplace=True)\n",
    "aug_stat_df.insert(0, 'year', 2019)\n",
    "aug_stat_df.insert(1, 'month', 'Aug')\n",
    "aug_stat_df"
   ]
  },
  {
   "cell_type": "code",
   "execution_count": null,
   "metadata": {},
   "outputs": [],
   "source": [
    "# End Stations\n",
    "aug_statend_df = aug_df.groupby(['end station id', 'end station name', 'end station latitude', 'end station longitude']).agg({i:'count' for i in aug_df.columns[16:17]})\n",
    "aug_statend_df.reset_index(inplace=True)\n",
    "aug_statend_df.rename(columns={\"end station id\" : \"stationid\", \"distance\":\"endtrips\", \"end station name\": \"endstatname\"}, inplace=True)\n",
    "aug_statend_df"
   ]
  },
  {
   "cell_type": "code",
   "execution_count": null,
   "metadata": {},
   "outputs": [],
   "source": [
    "# Merge the start trips with the end trips by station id\n",
    "aug_stat_df = aug_stat_df.merge(aug_statend_df, how=\"outer\", left_on='stationid', right_on='stationid', suffixes=('_left', '_right'))\n",
    "aug_stat_df"
   ]
  },
  {
   "cell_type": "code",
   "execution_count": null,
   "metadata": {},
   "outputs": [],
   "source": [
    "# Ages vs Trip duration\n",
    "aug_agedur_df = aug_df.groupby(by=['age','usertype'])['tripdurmin'].agg(['count', 'mean'])\n",
    "aug_agedur_df.reset_index(inplace=True)\n",
    "aug_agedur_df.insert(0, 'year', 2019)\n",
    "aug_agedur_df.insert(1, 'month', 'Aug')\n",
    "aug_agedur_df"
   ]
  },
  {
   "cell_type": "code",
   "execution_count": null,
   "metadata": {},
   "outputs": [],
   "source": [
    "# Distance from start station to end station for each bike ID\n",
    "aug_bike_df = aug_df.groupby(by=['bikeid'])['distance'].agg(['count', sum, 'mean', 'std'])\n",
    "aug_bike_df.reset_index(inplace=True)\n",
    "aug_bike_df.rename(columns={\"count\":\"trips\", \"sum\" : \"totmiles\", \"mean\" : \"avgmiles\", \"std\" : \"stdmiles\"}, inplace=True)\n",
    "aug_bike_df.insert(0, 'year', 2019)\n",
    "aug_bike_df.insert(1, 'month', 'Aug')\n",
    "aug_bike_df"
   ]
  },
  {
   "cell_type": "code",
   "execution_count": null,
   "metadata": {},
   "outputs": [],
   "source": [
    "# Calculate the total mileage for each bike ID\n",
    "aug_bikemil_df = aug_df.groupby(by=['bikeid'])['mileage'].agg(['count', sum, 'mean', 'std'])\n",
    "aug_bikemil_df.reset_index(inplace=True)\n",
    "aug_bikemil_df.rename(columns={\"count\":\"trips\", \"sum\" : \"totmileage\", \"mean\" : \"avgmileage\", \"std\" : \"stdmileage\"}, inplace=True)\n",
    "aug_bikemil_df.insert(0, 'year', 2019)\n",
    "aug_bikemil_df.insert(1, 'month', 'Aug')\n",
    "aug_bikemil_df"
   ]
  },
  {
   "cell_type": "code",
   "execution_count": null,
   "metadata": {},
   "outputs": [],
   "source": [
    "# Append DataFrames to CSVs\n",
    "with open('./2019/user2019.csv', 'a') as f:\n",
    "    aug_user_df.to_csv(f, encoding=\"utf-8\", index=False, header=False)\n",
    "\n",
    "with open('./2019/season2019.csv', 'a') as f:\n",
    "    aug_season_df.to_csv(f, encoding=\"utf-8\", index=False, header=False)\n",
    "\n",
    "with open('./2019/station2019.csv', 'a') as f:\n",
    "    aug_stat_df.to_csv(f, encoding=\"utf-8\", index=False, header=False)\n",
    "\n",
    "with open('./2019/agedur2019.csv', 'a') as f:\n",
    "    aug_agedur_df.to_csv(f, encoding=\"utf-8\", index=False, header=False)\n",
    "\n",
    "with open('./2019/bike2019.csv', 'a') as f:\n",
    "    aug_bike_df.to_csv(f, encoding=\"utf-8\", index=False, header=False)\n",
    "\n",
    "with open('./2019/mileage2019.csv', 'a') as f:\n",
    "    aug_bikemil_df.to_csv(f, encoding=\"utf-8\", index=False, header=False)"
   ]
  },
  {
   "cell_type": "markdown",
   "metadata": {},
   "source": [
    "##### --- September ---"
   ]
  },
  {
   "cell_type": "code",
   "execution_count": null,
   "metadata": {},
   "outputs": [],
   "source": [
    "# Read file and print the number of records and data types\n",
    "csv_name = \"./2019/201909.csv\"\n",
    "sep_df = pd.read_csv(csv_name, low_memory=False) "
   ]
  },
  {
   "cell_type": "code",
   "execution_count": null,
   "metadata": {},
   "outputs": [],
   "source": [
    "# Add columns\n",
    "sep_df.insert(0, 'year', 2019)\n",
    "sep_df.insert(1, 'month', 'Sep')\n",
    "sep_df.insert(3, 'tripdurmin', 0)\n",
    "sep_df.insert(5, 'starthour', 0)\n",
    "sep_df.insert(6, 'weekday', 0)\n",
    "sep_df.insert(16, 'distance', 0)\n",
    "sep_df.insert(21, 'age', 0)\n",
    "sep_df.insert(22, 'sgender', '')\n",
    "sep_df.insert(23, 'season', 'Autumn')\n",
    "sep_df.insert(24, 'mileage', 0)\n",
    "print(\"Records Sep-2019 : \" + \"\\n\" + str(sep_df.count()))"
   ]
  },
  {
   "cell_type": "code",
   "execution_count": null,
   "metadata": {},
   "outputs": [],
   "source": [
    "# Define values for gender\n",
    "sep_df.loc[sep_df['gender'] == 0, 'sgender'] = 'Unknown'\n",
    "sep_df.loc[sep_df['gender'] == 1, 'sgender'] = 'Male'\n",
    "sep_df.loc[sep_df['gender'] == 2, 'sgender'] = 'Female'\n",
    "\n",
    "# Calculate the age of the person (in 2019)\n",
    "sep_df['age'] = 2019 - sep_df['birth year']\n",
    "\n",
    "# durantion of the trip from seconds to minutes\n",
    "sep_df['tripdurmin'] = sep_df['tripduration'] / 60\n",
    "\n",
    "# Getting hour fron the 'startime'\n",
    "sep_df['starthour'] = pd.to_datetime(sep_df['starttime']).dt.strftime('%H')\n",
    "\n",
    "# Getting weekday fron the 'startime'\n",
    "sep_df['weekday'] = pd.to_datetime(sep_df['starttime']).dt.strftime('%A')"
   ]
  },
  {
   "cell_type": "code",
   "execution_count": null,
   "metadata": {},
   "outputs": [],
   "source": [
    "# Calculate the distance in miles from start station to end station\n",
    "sep_df['distance'] = sep_df.apply(lambda row: distance((row['start station latitude'],row['start station longitude']), \n",
    "                         (row['end station latitude'], row['end station longitude'])),\n",
    "                         axis=1)"
   ]
  },
  {
   "cell_type": "code",
   "execution_count": null,
   "metadata": {},
   "outputs": [],
   "source": [
    "# Transform the values for mileage estimates - assumed speed of 7.456 miles per hour, up to two hours. \n",
    "sep_df.loc[sep_df['tripdurmin'] <= 120, 'mileage'] = (sep_df['tripdurmin'] / 60) * 7.456\n",
    "\n",
    "# Trips over 2 hrs max-out at 14.9 miles\n",
    "sep_df.loc[sep_df['tripdurmin'] > 120, 'mileage'] = (sep_df['tripdurmin'] / 60) * 14.9"
   ]
  },
  {
   "cell_type": "code",
   "execution_count": null,
   "metadata": {},
   "outputs": [],
   "source": [
    "# Usertype + Gender\n",
    "sep_user_df = sep_df.groupby(['usertype', 'sgender']).agg({i:'count' for i in sep_df.columns[19:20]})\n",
    "sep_user_df.reset_index(inplace=True)\n",
    "sep_user_df.rename(columns={\"sgender\":\"gender\", \"birth year\":\"trips\"}, inplace=True)\n",
    "sep_user_df.insert(0, 'year', 2019)\n",
    "sep_user_df.insert(1, 'month', 'Sep')\n",
    "sep_user_df"
   ]
  },
  {
   "cell_type": "code",
   "execution_count": null,
   "metadata": {},
   "outputs": [],
   "source": [
    "# Trips by hour, season and weekday\n",
    "sep_season_df = sep_df.groupby(['starthour', 'season', 'weekday']).agg({i:'count' for i in sep_df.columns[19:20]})\n",
    "sep_season_df.reset_index(inplace=True)\n",
    "sep_season_df.rename(columns={\"birth year\":\"trips\"}, inplace=True)\n",
    "sep_season_df.insert(0, 'year', 2019)\n",
    "sep_season_df.insert(1, 'month', 'Sep')\n",
    "sep_season_df"
   ]
  },
  {
   "cell_type": "code",
   "execution_count": null,
   "metadata": {},
   "outputs": [],
   "source": [
    "# Start Stations\n",
    "sep_stat_df = sep_df.groupby(['start station id', 'start station name', 'start station latitude', 'start station longitude']).agg({i:'count' for i in sep_df.columns[16:17]})\n",
    "sep_stat_df.reset_index(inplace=True)\n",
    "sep_stat_df.rename(columns={\"start station id\" : \"stationid\", \"distance\":\"starttrips\", \"start station name\": \"startstatname\"}, inplace=True)\n",
    "sep_stat_df.insert(0, 'year', 2019)\n",
    "sep_stat_df.insert(1, 'month', 'Sep')\n",
    "sep_stat_df"
   ]
  },
  {
   "cell_type": "code",
   "execution_count": null,
   "metadata": {},
   "outputs": [],
   "source": [
    "# End Stations\n",
    "sep_statend_df = sep_df.groupby(['end station id', 'end station name', 'end station latitude', 'end station longitude']).agg({i:'count' for i in sep_df.columns[16:17]})\n",
    "sep_statend_df.reset_index(inplace=True)\n",
    "sep_statend_df.rename(columns={\"end station id\" : \"stationid\", \"distance\":\"endtrips\", \"end station name\": \"endstatname\"}, inplace=True)\n",
    "sep_statend_df"
   ]
  },
  {
   "cell_type": "code",
   "execution_count": null,
   "metadata": {},
   "outputs": [],
   "source": [
    "# Merge the start trips with the end trips by station id\n",
    "sep_stat_df = sep_stat_df.merge(sep_statend_df, how=\"outer\", left_on='stationid', right_on='stationid', suffixes=('_left', '_right'))\n",
    "sep_stat_df"
   ]
  },
  {
   "cell_type": "code",
   "execution_count": null,
   "metadata": {},
   "outputs": [],
   "source": [
    "# Ages vs Trip duration\n",
    "sep_agedur_df = sep_df.groupby(by=['age','usertype'])['tripdurmin'].agg(['count', 'mean'])\n",
    "sep_agedur_df.reset_index(inplace=True)\n",
    "sep_agedur_df.insert(0, 'year', 2019)\n",
    "sep_agedur_df.insert(1, 'month', 'Sep')\n",
    "sep_agedur_df"
   ]
  },
  {
   "cell_type": "code",
   "execution_count": null,
   "metadata": {},
   "outputs": [],
   "source": [
    "# Distance from start station to end station for each bike ID\n",
    "sep_bike_df = sep_df.groupby(by=['bikeid'])['distance'].agg(['count', sum, 'mean', 'std'])\n",
    "sep_bike_df.reset_index(inplace=True)\n",
    "sep_bike_df.rename(columns={\"count\":\"trips\", \"sum\" : \"totmiles\", \"mean\" : \"avgmiles\", \"std\" : \"stdmiles\"}, inplace=True)\n",
    "sep_bike_df.insert(0, 'year', 2019)\n",
    "sep_bike_df.insert(1, 'month', 'Sep')\n",
    "sep_bike_df"
   ]
  },
  {
   "cell_type": "code",
   "execution_count": null,
   "metadata": {},
   "outputs": [],
   "source": [
    "# Calculate the total mileage for each bike ID\n",
    "sep_bikemil_df = sep_df.groupby(by=['bikeid'])['mileage'].agg(['count', sum, 'mean', 'std'])\n",
    "sep_bikemil_df.reset_index(inplace=True)\n",
    "sep_bikemil_df.rename(columns={\"count\":\"trips\", \"sum\" : \"totmileage\", \"mean\" : \"avgmileage\", \"std\" : \"stdmileage\"}, inplace=True)\n",
    "sep_bikemil_df.insert(0, 'year', 2019)\n",
    "sep_bikemil_df.insert(1, 'month', 'Sep')\n",
    "sep_bikemil_df"
   ]
  },
  {
   "cell_type": "code",
   "execution_count": null,
   "metadata": {},
   "outputs": [],
   "source": [
    "# Append DataFrames to CSVs\n",
    "with open('./2019/user2019.csv', 'a') as f:\n",
    "    sep_user_df.to_csv(f, encoding=\"utf-8\", index=False, header=False)\n",
    "\n",
    "with open('./2019/season2019.csv', 'a') as f:\n",
    "    sep_season_df.to_csv(f, encoding=\"utf-8\", index=False, header=False)\n",
    "\n",
    "with open('./2019/station2019.csv', 'a') as f:\n",
    "    sep_stat_df.to_csv(f, encoding=\"utf-8\", index=False, header=False)\n",
    "\n",
    "with open('./2019/agedur2019.csv', 'a') as f:\n",
    "    sep_agedur_df.to_csv(f, encoding=\"utf-8\", index=False, header=False)\n",
    "\n",
    "with open('./2019/bike2019.csv', 'a') as f:\n",
    "    sep_bike_df.to_csv(f, encoding=\"utf-8\", index=False, header=False)\n",
    "\n",
    "with open('./2019/mileage2019.csv', 'a') as f:\n",
    "    sep_bikemil_df.to_csv(f, encoding=\"utf-8\", index=False, header=False)"
   ]
  },
  {
   "cell_type": "markdown",
   "metadata": {},
   "source": [
    "##### --- October ---"
   ]
  },
  {
   "cell_type": "code",
   "execution_count": null,
   "metadata": {},
   "outputs": [],
   "source": [
    "# Read file and print the number of records and data types\n",
    "csv_name = \"./2019/201910.csv\"\n",
    "oct_df = pd.read_csv(csv_name, low_memory=False) "
   ]
  },
  {
   "cell_type": "code",
   "execution_count": null,
   "metadata": {},
   "outputs": [],
   "source": [
    "# Add columns\n",
    "oct_df.insert(0, 'year', 2019)\n",
    "oct_df.insert(1, 'month', 'Oct')\n",
    "oct_df.insert(3, 'tripdurmin', 0)\n",
    "oct_df.insert(5, 'starthour', 0)\n",
    "oct_df.insert(6, 'weekday', 0)\n",
    "oct_df.insert(16, 'distance', 0)\n",
    "oct_df.insert(21, 'age', 0)\n",
    "oct_df.insert(22, 'sgender', '')\n",
    "oct_df.insert(23, 'season', 'Autumn')\n",
    "oct_df.insert(24, 'mileage', 0)\n",
    "print(\"Records Oct-2019 : \" + \"\\n\" + str(oct_df.count()))"
   ]
  },
  {
   "cell_type": "code",
   "execution_count": null,
   "metadata": {},
   "outputs": [],
   "source": [
    "# Define values for gender\n",
    "oct_df.loc[sep_df['gender'] == 0, 'sgender'] = 'Unknown'\n",
    "oct_df.loc[sep_df['gender'] == 1, 'sgender'] = 'Male'\n",
    "oct_df.loc[sep_df['gender'] == 2, 'sgender'] = 'Female'\n",
    "\n",
    "# Calculate the age of the person (in 2019)\n",
    "oct_df['age'] = 2019 - oct_df['birth year']\n",
    "\n",
    "# durantion of the trip from seconds to minutes\n",
    "oct_df['tripdurmin'] = oct_df['tripduration'] / 60\n",
    "\n",
    "# Getting hour fron the 'startime'\n",
    "oct_df['starthour'] = pd.to_datetime(oct_df['starttime']).dt.strftime('%H')\n",
    "\n",
    "# Getting weekday fron the 'startime'\n",
    "oct_df['weekday'] = pd.to_datetime(oct_df['starttime']).dt.strftime('%A')"
   ]
  },
  {
   "cell_type": "code",
   "execution_count": null,
   "metadata": {},
   "outputs": [],
   "source": [
    "# Calculate the distance in miles from start station to end station\n",
    "oct_df['distance'] = oct_df.apply(lambda row: distance((row['start station latitude'],row['start station longitude']), \n",
    "                         (row['end station latitude'], row['end station longitude'])),\n",
    "                         axis=1)"
   ]
  },
  {
   "cell_type": "code",
   "execution_count": null,
   "metadata": {},
   "outputs": [],
   "source": [
    "# Transform the values for mileage estimates - assumed speed of 7.456 miles per hour, up to two hours. \n",
    "oct_df.loc[oct_df['tripdurmin'] <= 120, 'mileage'] = (oct_df['tripdurmin'] / 60) * 7.456\n",
    "\n",
    "# Trips over 2 hrs max-out at 14.9 miles\n",
    "oct_df.loc[oct_df['tripdurmin'] > 120, 'mileage'] = (oct_df['tripdurmin'] / 60) * 14.9"
   ]
  },
  {
   "cell_type": "code",
   "execution_count": null,
   "metadata": {},
   "outputs": [],
   "source": [
    "# Usertype + Gender\n",
    "oct_user_df = oct_df.groupby(['usertype', 'sgender']).agg({i:'count' for i in oct_df.columns[19:20]})\n",
    "oct_user_df.reset_index(inplace=True)\n",
    "oct_user_df.rename(columns={\"sgender\":\"gender\", \"birth year\":\"trips\"}, inplace=True)\n",
    "oct_user_df.insert(0, 'year', 2019)\n",
    "oct_user_df.insert(1, 'month', 'Oct')\n",
    "oct_user_df"
   ]
  },
  {
   "cell_type": "code",
   "execution_count": null,
   "metadata": {},
   "outputs": [],
   "source": [
    "# Trips by hour, season and weekday\n",
    "oct_season_df = oct_df.groupby(['starthour', 'season', 'weekday']).agg({i:'count' for i in oct_df.columns[19:20]})\n",
    "oct_season_df.reset_index(inplace=True)\n",
    "oct_season_df.rename(columns={\"birth year\":\"trips\"}, inplace=True)\n",
    "oct_season_df.insert(0, 'year', 2019)\n",
    "oct_season_df.insert(1, 'month', 'Oct')\n",
    "oct_season_df"
   ]
  },
  {
   "cell_type": "code",
   "execution_count": null,
   "metadata": {},
   "outputs": [],
   "source": [
    "# Start Stations\n",
    "oct_stat_df = oct_df.groupby(['start station id', 'start station name', 'start station latitude', 'start station longitude']).agg({i:'count' for i in oct_df.columns[16:17]})\n",
    "oct_stat_df.reset_index(inplace=True)\n",
    "oct_stat_df.rename(columns={\"start station id\" : \"stationid\", \"distance\":\"starttrips\", \"start station name\": \"startstatname\"}, inplace=True)\n",
    "oct_stat_df.insert(0, 'year', 2019)\n",
    "oct_stat_df.insert(1, 'month', 'Oct')\n",
    "oct_stat_df"
   ]
  },
  {
   "cell_type": "code",
   "execution_count": null,
   "metadata": {},
   "outputs": [],
   "source": [
    "# End Stations\n",
    "oct_statend_df = oct_df.groupby(['end station id', 'end station name', 'end station latitude', 'end station longitude']).agg({i:'count' for i in oct_df.columns[16:17]})\n",
    "oct_statend_df.reset_index(inplace=True)\n",
    "oct_statend_df.rename(columns={\"end station id\" : \"stationid\", \"distance\":\"endtrips\", \"end station name\": \"endstatname\"}, inplace=True)\n",
    "oct_statend_df"
   ]
  },
  {
   "cell_type": "code",
   "execution_count": null,
   "metadata": {},
   "outputs": [],
   "source": [
    "# Merge the start trips with the end trips by station id\n",
    "oct_stat_df = oct_stat_df.merge(oct_statend_df, how=\"outer\", left_on='stationid', right_on='stationid', suffixes=('_left', '_right'))\n",
    "oct_stat_df"
   ]
  },
  {
   "cell_type": "code",
   "execution_count": null,
   "metadata": {},
   "outputs": [],
   "source": [
    "# Ages vs Trip duration\n",
    "oct_agedur_df = oct_df.groupby(by=['age','usertype'])['tripdurmin'].agg(['count', 'mean'])\n",
    "oct_agedur_df.reset_index(inplace=True)\n",
    "oct_agedur_df.insert(0, 'year', 2019)\n",
    "oct_agedur_df.insert(1, 'month', 'Oct')\n",
    "oct_agedur_df"
   ]
  },
  {
   "cell_type": "code",
   "execution_count": null,
   "metadata": {},
   "outputs": [],
   "source": [
    "# Distance from start station to end station for each bike ID\n",
    "oct_bike_df = oct_df.groupby(by=['bikeid'])['distance'].agg(['count', sum, 'mean', 'std'])\n",
    "oct_bike_df.reset_index(inplace=True)\n",
    "oct_bike_df.rename(columns={\"count\":\"trips\", \"sum\" : \"totmiles\", \"mean\" : \"avgmiles\", \"std\" : \"stdmiles\"}, inplace=True)\n",
    "oct_bike_df.insert(0, 'year', 2019)\n",
    "oct_bike_df.insert(1, 'month', 'Oct')\n",
    "oct_bike_df"
   ]
  },
  {
   "cell_type": "code",
   "execution_count": null,
   "metadata": {},
   "outputs": [],
   "source": [
    "# Calculate the total mileage for each bike ID\n",
    "oct_bikemil_df = oct_df.groupby(by=['bikeid'])['mileage'].agg(['count', sum, 'mean', 'std'])\n",
    "oct_bikemil_df.reset_index(inplace=True)\n",
    "oct_bikemil_df.rename(columns={\"count\":\"trips\", \"sum\" : \"totmileage\", \"mean\" : \"avgmileage\", \"std\" : \"stdmileage\"}, inplace=True)\n",
    "oct_bikemil_df.insert(0, 'year', 2019)\n",
    "oct_bikemil_df.insert(1, 'month', 'Oct')\n",
    "oct_bikemil_df"
   ]
  },
  {
   "cell_type": "code",
   "execution_count": null,
   "metadata": {},
   "outputs": [],
   "source": [
    "# Append DataFrames to CSVs\n",
    "with open('./2019/user2019.csv', 'a') as f:\n",
    "    oct_user_df.to_csv(f, encoding=\"utf-8\", index=False, header=False)\n",
    "\n",
    "with open('./2019/season2019.csv', 'a') as f:\n",
    "    oct_season_df.to_csv(f, encoding=\"utf-8\", index=False, header=False)\n",
    "\n",
    "with open('./2019/station2019.csv', 'a') as f:\n",
    "    oct_stat_df.to_csv(f, encoding=\"utf-8\", index=False, header=False)\n",
    "\n",
    "with open('./2019/agedur2019.csv', 'a') as f:\n",
    "    oct_agedur_df.to_csv(f, encoding=\"utf-8\", index=False, header=False)\n",
    "\n",
    "with open('./2019/bike2019.csv', 'a') as f:\n",
    "    oct_bike_df.to_csv(f, encoding=\"utf-8\", index=False, header=False)\n",
    "\n",
    "with open('./2019/mileage2019.csv', 'a') as f:\n",
    "    oct_bikemil_df.to_csv(f, encoding=\"utf-8\", index=False, header=False)"
   ]
  },
  {
   "cell_type": "markdown",
   "metadata": {},
   "source": [
    "##### --- November ---"
   ]
  },
  {
   "cell_type": "code",
   "execution_count": null,
   "metadata": {},
   "outputs": [],
   "source": [
    "# Read file and print the number of records and data types\n",
    "csv_name = \"./2019/201911.csv\"\n",
    "nov_df = pd.read_csv(csv_name, low_memory=False) "
   ]
  },
  {
   "cell_type": "code",
   "execution_count": null,
   "metadata": {},
   "outputs": [],
   "source": [
    "# Add columns\n",
    "nov_df.insert(0, 'year', 2019)\n",
    "nov_df.insert(1, 'month', 'Nov')\n",
    "nov_df.insert(3, 'tripdurmin', 0)\n",
    "nov_df.insert(5, 'starthour', 0)\n",
    "nov_df.insert(6, 'weekday', 0)\n",
    "nov_df.insert(16, 'distance', 0)\n",
    "nov_df.insert(21, 'age', 0)\n",
    "nov_df.insert(22, 'sgender', '')\n",
    "nov_df.insert(23, 'season', 'Autumn')\n",
    "nov_df.insert(24, 'mileage', 0)\n",
    "print(\"Records Nov-2019 : \" + \"\\n\" + str(nov_df.count()))"
   ]
  },
  {
   "cell_type": "code",
   "execution_count": null,
   "metadata": {},
   "outputs": [],
   "source": [
    "# Define values for gender\n",
    "nov_df.loc[nov_df['gender'] == 0, 'sgender'] = 'Unknown'\n",
    "nov_df.loc[nov_df['gender'] == 1, 'sgender'] = 'Male'\n",
    "nov_df.loc[nov_df['gender'] == 2, 'sgender'] = 'Female'\n",
    "\n",
    "# Calculate the age of the person (in 2019)\n",
    "nov_df['age'] = 2019 - nov_df['birth year']\n",
    "\n",
    "# durantion of the trip from seconds to minutes\n",
    "nov_df['tripdurmin'] = nov_df['tripduration'] / 60\n",
    "\n",
    "# Getting hour fron the 'startime'\n",
    "nov_df['starthour'] = pd.to_datetime(nov_df['starttime']).dt.strftime('%H')\n",
    "\n",
    "# Getting weekday fron the 'startime'\n",
    "nov_df['weekday'] = pd.to_datetime(nov_df['starttime']).dt.strftime('%A')"
   ]
  },
  {
   "cell_type": "code",
   "execution_count": null,
   "metadata": {},
   "outputs": [],
   "source": [
    "# Calculate the distance in miles from start station to end station\n",
    "nov_df['distance'] = nov_df.apply(lambda row: distance((row['start station latitude'],row['start station longitude']), \n",
    "                         (row['end station latitude'], row['end station longitude'])),\n",
    "                         axis=1)"
   ]
  },
  {
   "cell_type": "code",
   "execution_count": null,
   "metadata": {},
   "outputs": [],
   "source": [
    "# Transform the values for mileage estimates - assumed speed of 7.456 miles per hour, up to two hours. \n",
    "nov_df.loc[nov_df['tripdurmin'] <= 120, 'mileage'] = (nov_df['tripdurmin'] / 60) * 7.456\n",
    "\n",
    "# Trips over 2 hrs max-out at 14.9 miles\n",
    "nov_df.loc[nov_df['tripdurmin'] > 120, 'mileage'] = (nov_df['tripdurmin'] / 60) * 14.9"
   ]
  },
  {
   "cell_type": "code",
   "execution_count": null,
   "metadata": {},
   "outputs": [],
   "source": [
    "# Usertype + Gender\n",
    "nov_user_df = nov_df.groupby(['usertype', 'sgender']).agg({i:'count' for i in nov_df.columns[19:20]})\n",
    "nov_user_df.reset_index(inplace=True)\n",
    "nov_user_df.rename(columns={\"sgender\":\"gender\", \"birth year\":\"trips\"}, inplace=True)\n",
    "nov_user_df.insert(0, 'year', 2019)\n",
    "nov_user_df.insert(1, 'month', 'Nov')\n",
    "nov_user_df"
   ]
  },
  {
   "cell_type": "code",
   "execution_count": null,
   "metadata": {},
   "outputs": [],
   "source": [
    "# Trips by hour, season and weekday\n",
    "nov_season_df = nov_df.groupby(['starthour', 'season', 'weekday']).agg({i:'count' for i in nov_df.columns[19:20]})\n",
    "nov_season_df.reset_index(inplace=True)\n",
    "nov_season_df.rename(columns={\"birth year\":\"trips\"}, inplace=True)\n",
    "nov_season_df.insert(0, 'year', 2019)\n",
    "nov_season_df.insert(1, 'month', 'Nov')\n",
    "nov_season_df"
   ]
  },
  {
   "cell_type": "code",
   "execution_count": null,
   "metadata": {},
   "outputs": [],
   "source": [
    "# Start Stations\n",
    "nov_stat_df = nov_df.groupby(['start station id', 'start station name', 'start station latitude', 'start station longitude']).agg({i:'count' for i in nov_df.columns[16:17]})\n",
    "nov_stat_df.reset_index(inplace=True)\n",
    "nov_stat_df.rename(columns={\"start station id\" : \"stationid\", \"distance\":\"starttrips\", \"start station name\": \"startstatname\"}, inplace=True)\n",
    "nov_stat_df.insert(0, 'year', 2019)\n",
    "nov_stat_df.insert(1, 'month', 'Nov')\n",
    "nov_stat_df"
   ]
  },
  {
   "cell_type": "code",
   "execution_count": null,
   "metadata": {},
   "outputs": [],
   "source": [
    "# End Stations\n",
    "nov_statend_df = nov_df.groupby(['end station id', 'end station name', 'end station latitude', 'end station longitude']).agg({i:'count' for i in nov_df.columns[16:17]})\n",
    "nov_statend_df.reset_index(inplace=True)\n",
    "nov_statend_df.rename(columns={\"end station id\" : \"stationid\", \"distance\":\"endtrips\", \"end station name\": \"endstatname\"}, inplace=True)\n",
    "nov_statend_df"
   ]
  },
  {
   "cell_type": "code",
   "execution_count": null,
   "metadata": {},
   "outputs": [],
   "source": [
    "# Merge the start trips with the end trips by station id\n",
    "nov_stat_df = nov_stat_df.merge(nov_statend_df, how=\"outer\", left_on='stationid', right_on='stationid', suffixes=('_left', '_right'))\n",
    "nov_stat_df"
   ]
  },
  {
   "cell_type": "code",
   "execution_count": null,
   "metadata": {},
   "outputs": [],
   "source": [
    "# Ages vs Trip duration\n",
    "nov_agedur_df = nov_df.groupby(by=['age','usertype'])['tripdurmin'].agg(['count', 'mean'])\n",
    "nov_agedur_df.reset_index(inplace=True)\n",
    "nov_agedur_df.insert(0, 'year', 2019)\n",
    "nov_agedur_df.insert(1, 'month', 'Nov')\n",
    "nov_agedur_df"
   ]
  },
  {
   "cell_type": "code",
   "execution_count": null,
   "metadata": {},
   "outputs": [],
   "source": [
    "# Distance from start station to end station for each bike ID\n",
    "nov_bike_df = nov_df.groupby(by=['bikeid'])['distance'].agg(['count', sum, 'mean', 'std'])\n",
    "nov_bike_df.reset_index(inplace=True)\n",
    "nov_bike_df.rename(columns={\"count\":\"trips\", \"sum\" : \"totmiles\", \"mean\" : \"avgmiles\", \"std\" : \"stdmiles\"}, inplace=True)\n",
    "nov_bike_df.insert(0, 'year', 2019)\n",
    "nov_bike_df.insert(1, 'month', 'Nov')\n",
    "nov_bike_df"
   ]
  },
  {
   "cell_type": "code",
   "execution_count": null,
   "metadata": {},
   "outputs": [],
   "source": [
    "# Calculate the total mileage for each bike ID\n",
    "nov_bikemil_df = nov_df.groupby(by=['bikeid'])['mileage'].agg(['count', sum, 'mean', 'std'])\n",
    "nov_bikemil_df.reset_index(inplace=True)\n",
    "nov_bikemil_df.rename(columns={\"count\":\"trips\", \"sum\" : \"totmileage\", \"mean\" : \"avgmileage\", \"std\" : \"stdmileage\"}, inplace=True)\n",
    "nov_bikemil_df.insert(0, 'year', 2019)\n",
    "nov_bikemil_df.insert(1, 'month', 'Nov')\n",
    "nov_bikemil_df"
   ]
  },
  {
   "cell_type": "code",
   "execution_count": null,
   "metadata": {},
   "outputs": [],
   "source": [
    "# Append DataFrames to CSVs\n",
    "with open('./2019/user2019.csv', 'a') as f:\n",
    "    nov_user_df.to_csv(f, encoding=\"utf-8\", index=False, header=False)\n",
    "\n",
    "with open('./2019/season2019.csv', 'a') as f:\n",
    "    nov_season_df.to_csv(f, encoding=\"utf-8\", index=False, header=False)\n",
    "\n",
    "with open('./2019/station2019.csv', 'a') as f:\n",
    "    nov_stat_df.to_csv(f, encoding=\"utf-8\", index=False, header=False)\n",
    "\n",
    "with open('./2019/agedur2019.csv', 'a') as f:\n",
    "    nov_agedur_df.to_csv(f, encoding=\"utf-8\", index=False, header=False)\n",
    "\n",
    "with open('./2019/bike2019.csv', 'a') as f:\n",
    "    nov_bike_df.to_csv(f, encoding=\"utf-8\", index=False, header=False)\n",
    "\n",
    "with open('./2019/mileage2019.csv', 'a') as f:\n",
    "    nov_bikemil_df.to_csv(f, encoding=\"utf-8\", index=False, header=False)"
   ]
  },
  {
   "cell_type": "markdown",
   "metadata": {},
   "source": [
    "##### --- December ---"
   ]
  },
  {
   "cell_type": "code",
   "execution_count": null,
   "metadata": {},
   "outputs": [],
   "source": [
    "# Read file and print the number of records and data types\n",
    "csv_name = \"./2019/201912.csv\"\n",
    "dec_df = pd.read_csv(csv_name, low_memory=False) "
   ]
  },
  {
   "cell_type": "code",
   "execution_count": null,
   "metadata": {},
   "outputs": [],
   "source": [
    "# Add columns\n",
    "dec_df.insert(0, 'year', 2019)\n",
    "dec_df.insert(1, 'month', 'Dec')\n",
    "dec_df.insert(3, 'tripdurmin', 0)\n",
    "dec_df.insert(5, 'starthour', 0)\n",
    "dec_df.insert(6, 'weekday', 0)\n",
    "dec_df.insert(16, 'distance', 0)\n",
    "dec_df.insert(21, 'age', 0)\n",
    "dec_df.insert(22, 'sgender', '')\n",
    "dec_df.insert(23, 'season', 'Winter')\n",
    "dec_df.insert(24, 'mileage', 0)\n",
    "print(\"Records Dec-2019 : \" + \"\\n\" + str(nov_df.count()))"
   ]
  },
  {
   "cell_type": "code",
   "execution_count": null,
   "metadata": {},
   "outputs": [],
   "source": [
    "# Define values for gender\n",
    "dec_df.loc[dec_df['gender'] == 0, 'sgender'] = 'Unknown'\n",
    "dec_df.loc[dec_df['gender'] == 1, 'sgender'] = 'Male'\n",
    "dec_df.loc[dec_df['gender'] == 2, 'sgender'] = 'Female'\n",
    "\n",
    "# Calculate the age of the person (in 2019)\n",
    "dec_df['age'] = 2019 - dec_df['birth year']\n",
    "\n",
    "# durantion of the trip from seconds to minutes\n",
    "dec_df['tripdurmin'] = dec_df['tripduration'] / 60\n",
    "\n",
    "# Getting hour fron the 'startime'\n",
    "dec_df['starthour'] = pd.to_datetime(dec_df['starttime']).dt.strftime('%H')\n",
    "\n",
    "# Getting weekday fron the 'startime'\n",
    "dec_df['weekday'] = pd.to_datetime(dec_df['starttime']).dt.strftime('%A')"
   ]
  },
  {
   "cell_type": "code",
   "execution_count": null,
   "metadata": {},
   "outputs": [],
   "source": [
    "# Calculate the distance in miles from start station to end station\n",
    "dec_df['distance'] = dec_df.apply(lambda row: distance((row['start station latitude'],row['start station longitude']), \n",
    "                         (row['end station latitude'], row['end station longitude'])),\n",
    "                         axis=1)"
   ]
  },
  {
   "cell_type": "code",
   "execution_count": null,
   "metadata": {},
   "outputs": [],
   "source": [
    "# Transform the values for mileage estimates - assumed speed of 7.456 miles per hour, up to two hours. \n",
    "dec_df.loc[dec_df['tripdurmin'] <= 120, 'mileage'] = (dec_df['tripdurmin'] / 60) * 7.456\n",
    "\n",
    "# Trips over 2 hrs max-out at 14.9 miles\n",
    "dec_df.loc[dec_df['tripdurmin'] > 120, 'mileage'] = (dec_df['tripdurmin'] / 60) * 14.9"
   ]
  },
  {
   "cell_type": "code",
   "execution_count": null,
   "metadata": {},
   "outputs": [],
   "source": [
    "# Usertype + Gender\n",
    "dec_user_df = dec_df.groupby(['usertype', 'sgender']).agg({i:'count' for i in dec_df.columns[19:20]})\n",
    "dec_user_df.reset_index(inplace=True)\n",
    "dec_user_df.rename(columns={\"sgender\":\"gender\", \"birth year\":\"trips\"}, inplace=True)\n",
    "dec_user_df.insert(0, 'year', 2019)\n",
    "dec_user_df.insert(1, 'month', 'Dec')\n",
    "dec_user_df"
   ]
  },
  {
   "cell_type": "code",
   "execution_count": null,
   "metadata": {},
   "outputs": [],
   "source": [
    "# Trips by hour, season and weekday\n",
    "dec_season_df = dec_df.groupby(['starthour', 'season', 'weekday']).agg({i:'count' for i in dec_df.columns[19:20]})\n",
    "dec_season_df.reset_index(inplace=True)\n",
    "dec_season_df.rename(columns={\"birth year\":\"trips\"}, inplace=True)\n",
    "dec_season_df.insert(0, 'year', 2019)\n",
    "dec_season_df.insert(1, 'month', 'Dec')\n",
    "dec_season_df"
   ]
  },
  {
   "cell_type": "code",
   "execution_count": null,
   "metadata": {},
   "outputs": [],
   "source": [
    "# Start Stations\n",
    "dec_stat_df = dec_df.groupby(['start station id', 'start station name', 'start station latitude', 'start station longitude']).agg({i:'count' for i in dec_df.columns[16:17]})\n",
    "dec_stat_df.reset_index(inplace=True)\n",
    "dec_stat_df.rename(columns={\"start station id\" : \"stationid\", \"distance\":\"starttrips\", \"start station name\": \"startstatname\"}, inplace=True)\n",
    "dec_stat_df.insert(0, 'year', 2019)\n",
    "dec_stat_df.insert(1, 'month', 'Dec')\n",
    "dec_stat_df"
   ]
  },
  {
   "cell_type": "code",
   "execution_count": null,
   "metadata": {},
   "outputs": [],
   "source": [
    "# End Stations\n",
    "dec_statend_df = dec_df.groupby(['end station id', 'end station name', 'end station latitude', 'end station longitude']).agg({i:'count' for i in dec_df.columns[16:17]})\n",
    "dec_statend_df.reset_index(inplace=True)\n",
    "dec_statend_df.rename(columns={\"end station id\" : \"stationid\", \"distance\":\"endtrips\", \"end station name\": \"endstatname\"}, inplace=True)\n",
    "dec_statend_df"
   ]
  },
  {
   "cell_type": "code",
   "execution_count": null,
   "metadata": {},
   "outputs": [],
   "source": [
    "# Merge the start trips with the end trips by station id\n",
    "dec_stat_df = dec_stat_df.merge(dec_statend_df, how=\"outer\", left_on='stationid', right_on='stationid', suffixes=('_left', '_right'))\n",
    "dec_stat_df"
   ]
  },
  {
   "cell_type": "code",
   "execution_count": null,
   "metadata": {},
   "outputs": [],
   "source": [
    "# Ages vs Trip duration\n",
    "dec_agedur_df = dec_df.groupby(by=['age','usertype'])['tripdurmin'].agg(['count', 'mean'])\n",
    "dec_agedur_df.reset_index(inplace=True)\n",
    "dec_agedur_df.insert(0, 'year', 2019)\n",
    "dec_agedur_df.insert(1, 'month', 'Dec')\n",
    "dec_agedur_df"
   ]
  },
  {
   "cell_type": "code",
   "execution_count": null,
   "metadata": {},
   "outputs": [],
   "source": [
    "# Distance from start station to end station for each bike ID\n",
    "dec_bike_df = dec_df.groupby(by=['bikeid'])['distance'].agg(['count', sum, 'mean', 'std'])\n",
    "dec_bike_df.reset_index(inplace=True)\n",
    "dec_bike_df.rename(columns={\"count\":\"trips\", \"sum\" : \"totmiles\", \"mean\" : \"avgmiles\", \"std\" : \"stdmiles\"}, inplace=True)\n",
    "dec_bike_df.insert(0, 'year', 2019)\n",
    "dec_bike_df.insert(1, 'month', 'Dec')\n",
    "dec_bike_df"
   ]
  },
  {
   "cell_type": "code",
   "execution_count": null,
   "metadata": {},
   "outputs": [],
   "source": [
    "# Calculate the total mileage for each bike ID\n",
    "dec_bikemil_df = dec_df.groupby(by=['bikeid'])['mileage'].agg(['count', sum, 'mean', 'std'])\n",
    "dec_bikemil_df.reset_index(inplace=True)\n",
    "dec_bikemil_df.rename(columns={\"count\":\"trips\", \"sum\" : \"totmileage\", \"mean\" : \"avgmileage\", \"std\" : \"stdmileage\"}, inplace=True)\n",
    "dec_bikemil_df.insert(0, 'year', 2019)\n",
    "dec_bikemil_df.insert(1, 'month', 'Dec')\n",
    "dec_bikemil_df"
   ]
  },
  {
   "cell_type": "code",
   "execution_count": null,
   "metadata": {},
   "outputs": [],
   "source": [
    "# Append DataFrames to CSVs\n",
    "with open('./2019/user2019.csv', 'a') as f:\n",
    "    dec_user_df.to_csv(f, encoding=\"utf-8\", index=False, header=False)\n",
    "\n",
    "with open('./2019/season2019.csv', 'a') as f:\n",
    "    dec_season_df.to_csv(f, encoding=\"utf-8\", index=False, header=False)\n",
    "\n",
    "with open('./2019/station2019.csv', 'a') as f:\n",
    "    dec_stat_df.to_csv(f, encoding=\"utf-8\", index=False, header=False)\n",
    "\n",
    "with open('./2019/agedur2019.csv', 'a') as f:\n",
    "    dec_agedur_df.to_csv(f, encoding=\"utf-8\", index=False, header=False)\n",
    "\n",
    "with open('./2019/bike2019.csv', 'a') as f:\n",
    "    dec_bike_df.to_csv(f, encoding=\"utf-8\", index=False, header=False)\n",
    "\n",
    "with open('./2019/mileage2019.csv', 'a') as f:\n",
    "    dec_bikemil_df.to_csv(f, encoding=\"utf-8\", index=False, header=False)"
   ]
  },
  {
   "cell_type": "code",
   "execution_count": null,
   "metadata": {
    "jupyter": {
     "source_hidden": true
    }
   },
   "outputs": [],
   "source": [
    "# Append DataFrames to CSVs\n",
    "with open('./2019/user2019.csv', 'a') as f:\n",
    "    nov_user_df.to_csv(f, encoding=\"utf-8\", index=False, header=False)\n",
    "\n",
    "with open('./2019/season2019.csv', 'a') as f:\n",
    "    nov_season_df.to_csv(f, encoding=\"utf-8\", index=False, header=False)\n",
    "\n",
    "with open('./2019/station2019.csv', 'a') as f:\n",
    "    nov_stat_df.to_csv(f, encoding=\"utf-8\", index=False, header=False)\n",
    "\n",
    "with open('./2019/agedur2019.csv', 'a') as f:\n",
    "    nov_agedur_df.to_csv(f, encoding=\"utf-8\", index=False, header=False)\n",
    "\n",
    "with open('./2019/bike2019.csv', 'a') as f:\n",
    "    nov_bike_df.to_csv(f, encoding=\"utf-8\", index=False, header=False)\n",
    "\n",
    "with open('./2019/mileage2019.csv', 'a') as f:\n",
    "    nov_bikemil_df.to_csv(f, encoding=\"utf-8\", index=False, header=False)"
   ]
  },
  {
   "cell_type": "code",
   "execution_count": null,
   "metadata": {},
   "outputs": [],
   "source": []
  },
  {
   "cell_type": "code",
   "execution_count": null,
   "metadata": {
    "jupyter": {
     "source_hidden": true
    }
   },
   "outputs": [],
   "source": []
  },
  {
   "cell_type": "code",
   "execution_count": null,
   "metadata": {},
   "outputs": [],
   "source": []
  }
 ],
 "metadata": {
  "kernelspec": {
   "display_name": "Python 3",
   "language": "python",
   "name": "python3"
  },
  "language_info": {
   "codemirror_mode": {
    "name": "ipython",
    "version": 3
   },
   "file_extension": ".py",
   "mimetype": "text/x-python",
   "name": "python",
   "nbconvert_exporter": "python",
   "pygments_lexer": "ipython3",
   "version": "3.8.3"
  }
 },
 "nbformat": 4,
 "nbformat_minor": 4
}
